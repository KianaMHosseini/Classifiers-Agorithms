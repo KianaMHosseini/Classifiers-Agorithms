{
 "cells": [
  {
   "cell_type": "markdown",
   "id": "1660407e",
   "metadata": {},
   "source": [
    "# Data Mining Project (2)"
   ]
  },
  {
   "cell_type": "markdown",
   "id": "9cb3d2bd",
   "metadata": {},
   "source": [
    "## Import Libraries"
   ]
  },
  {
   "cell_type": "code",
   "execution_count": 296,
   "id": "eb594086",
   "metadata": {},
   "outputs": [],
   "source": [
    "import numpy as np\n",
    "import pandas as pd\n",
    "import sklearn.metrics as met\n",
    "from sklearn.naive_bayes import CategoricalNB, GaussianNB\n",
    "import random\n",
    "from sklearn.model_selection import KFold \n",
    "from sklearn.metrics import accuracy_score\n",
    "from sklearn.neighbors import KNeighborsClassifier\n",
    "from sklearn.model_selection import StratifiedKFold\n",
    "\n",
    "import matplotlib.pyplot as plt"
   ]
  },
  {
   "cell_type": "markdown",
   "id": "abcc107d",
   "metadata": {},
   "source": [
    "## Import And Read Data"
   ]
  },
  {
   "cell_type": "code",
   "execution_count": 297,
   "id": "82882ca1",
   "metadata": {},
   "outputs": [
    {
     "data": {
      "text/html": [
       "<div>\n",
       "<style scoped>\n",
       "    .dataframe tbody tr th:only-of-type {\n",
       "        vertical-align: middle;\n",
       "    }\n",
       "\n",
       "    .dataframe tbody tr th {\n",
       "        vertical-align: top;\n",
       "    }\n",
       "\n",
       "    .dataframe thead th {\n",
       "        text-align: right;\n",
       "    }\n",
       "</style>\n",
       "<table border=\"1\" class=\"dataframe\">\n",
       "  <thead>\n",
       "    <tr style=\"text-align: right;\">\n",
       "      <th></th>\n",
       "      <th>HeartDisease</th>\n",
       "      <th>BMI</th>\n",
       "      <th>Smoking</th>\n",
       "      <th>AlcoholDrinking</th>\n",
       "      <th>Stroke</th>\n",
       "      <th>PhysicalHealth</th>\n",
       "      <th>MentalHealth</th>\n",
       "      <th>DiffWalking</th>\n",
       "      <th>Sex</th>\n",
       "      <th>AgeCategory</th>\n",
       "      <th>Race</th>\n",
       "      <th>Diabetic</th>\n",
       "      <th>PhysicalActivity</th>\n",
       "      <th>GenHealth</th>\n",
       "      <th>SleepTime</th>\n",
       "      <th>Asthma</th>\n",
       "      <th>KidneyDisease</th>\n",
       "      <th>SkinCancer</th>\n",
       "    </tr>\n",
       "  </thead>\n",
       "  <tbody>\n",
       "    <tr>\n",
       "      <th>0</th>\n",
       "      <td>No</td>\n",
       "      <td>16.60</td>\n",
       "      <td>Yes</td>\n",
       "      <td>No</td>\n",
       "      <td>No</td>\n",
       "      <td>3</td>\n",
       "      <td>30</td>\n",
       "      <td>No</td>\n",
       "      <td>Female</td>\n",
       "      <td>55-59</td>\n",
       "      <td>White</td>\n",
       "      <td>Yes</td>\n",
       "      <td>Yes</td>\n",
       "      <td>Very good</td>\n",
       "      <td>5</td>\n",
       "      <td>Yes</td>\n",
       "      <td>No</td>\n",
       "      <td>Yes</td>\n",
       "    </tr>\n",
       "    <tr>\n",
       "      <th>1</th>\n",
       "      <td>No</td>\n",
       "      <td>20.34</td>\n",
       "      <td>No</td>\n",
       "      <td>No</td>\n",
       "      <td>Yes</td>\n",
       "      <td>0</td>\n",
       "      <td>0</td>\n",
       "      <td>No</td>\n",
       "      <td>Female</td>\n",
       "      <td>80 or older</td>\n",
       "      <td>White</td>\n",
       "      <td>No</td>\n",
       "      <td>Yes</td>\n",
       "      <td>Very good</td>\n",
       "      <td>7</td>\n",
       "      <td>No</td>\n",
       "      <td>No</td>\n",
       "      <td>No</td>\n",
       "    </tr>\n",
       "    <tr>\n",
       "      <th>2</th>\n",
       "      <td>No</td>\n",
       "      <td>26.58</td>\n",
       "      <td>Yes</td>\n",
       "      <td>No</td>\n",
       "      <td>No</td>\n",
       "      <td>20</td>\n",
       "      <td>30</td>\n",
       "      <td>No</td>\n",
       "      <td>Male</td>\n",
       "      <td>65-69</td>\n",
       "      <td>White</td>\n",
       "      <td>Yes</td>\n",
       "      <td>Yes</td>\n",
       "      <td>Fair</td>\n",
       "      <td>8</td>\n",
       "      <td>Yes</td>\n",
       "      <td>No</td>\n",
       "      <td>No</td>\n",
       "    </tr>\n",
       "    <tr>\n",
       "      <th>3</th>\n",
       "      <td>No</td>\n",
       "      <td>24.21</td>\n",
       "      <td>No</td>\n",
       "      <td>No</td>\n",
       "      <td>No</td>\n",
       "      <td>0</td>\n",
       "      <td>0</td>\n",
       "      <td>No</td>\n",
       "      <td>Female</td>\n",
       "      <td>75-79</td>\n",
       "      <td>White</td>\n",
       "      <td>No</td>\n",
       "      <td>No</td>\n",
       "      <td>Good</td>\n",
       "      <td>6</td>\n",
       "      <td>No</td>\n",
       "      <td>No</td>\n",
       "      <td>Yes</td>\n",
       "    </tr>\n",
       "    <tr>\n",
       "      <th>4</th>\n",
       "      <td>No</td>\n",
       "      <td>23.71</td>\n",
       "      <td>No</td>\n",
       "      <td>No</td>\n",
       "      <td>No</td>\n",
       "      <td>28</td>\n",
       "      <td>0</td>\n",
       "      <td>Yes</td>\n",
       "      <td>Female</td>\n",
       "      <td>40-44</td>\n",
       "      <td>White</td>\n",
       "      <td>No</td>\n",
       "      <td>Yes</td>\n",
       "      <td>Very good</td>\n",
       "      <td>8</td>\n",
       "      <td>No</td>\n",
       "      <td>No</td>\n",
       "      <td>No</td>\n",
       "    </tr>\n",
       "  </tbody>\n",
       "</table>\n",
       "</div>"
      ],
      "text/plain": [
       "  HeartDisease    BMI Smoking AlcoholDrinking Stroke  PhysicalHealth  \\\n",
       "0           No  16.60     Yes              No     No               3   \n",
       "1           No  20.34      No              No    Yes               0   \n",
       "2           No  26.58     Yes              No     No              20   \n",
       "3           No  24.21      No              No     No               0   \n",
       "4           No  23.71      No              No     No              28   \n",
       "\n",
       "   MentalHealth DiffWalking     Sex  AgeCategory   Race Diabetic  \\\n",
       "0            30          No  Female        55-59  White      Yes   \n",
       "1             0          No  Female  80 or older  White       No   \n",
       "2            30          No    Male        65-69  White      Yes   \n",
       "3             0          No  Female        75-79  White       No   \n",
       "4             0         Yes  Female        40-44  White       No   \n",
       "\n",
       "  PhysicalActivity  GenHealth  SleepTime Asthma KidneyDisease SkinCancer  \n",
       "0              Yes  Very good          5    Yes            No        Yes  \n",
       "1              Yes  Very good          7     No            No         No  \n",
       "2              Yes       Fair          8    Yes            No         No  \n",
       "3               No       Good          6     No            No        Yes  \n",
       "4              Yes  Very good          8     No            No         No  "
      ]
     },
     "execution_count": 297,
     "metadata": {},
     "output_type": "execute_result"
    }
   ],
   "source": [
    "data = pd.read_csv('heart_disease.csv')\n",
    "\n",
    "data.head()"
   ]
  },
  {
   "cell_type": "code",
   "execution_count": 298,
   "id": "ff31b502",
   "metadata": {},
   "outputs": [
    {
     "data": {
      "text/plain": [
       "(10000, 18)"
      ]
     },
     "execution_count": 298,
     "metadata": {},
     "output_type": "execute_result"
    }
   ],
   "source": [
    "data.shape"
   ]
  },
  {
   "cell_type": "markdown",
   "id": "6f77bf52",
   "metadata": {},
   "source": [
    "## Data Types, Missing data And Drop Columns"
   ]
  },
  {
   "cell_type": "code",
   "execution_count": 299,
   "id": "25427abf",
   "metadata": {},
   "outputs": [
    {
     "name": "stdout",
     "output_type": "stream",
     "text": [
      "<class 'pandas.core.frame.DataFrame'>\n",
      "RangeIndex: 10000 entries, 0 to 9999\n",
      "Data columns (total 18 columns):\n",
      " #   Column            Non-Null Count  Dtype  \n",
      "---  ------            --------------  -----  \n",
      " 0   HeartDisease      10000 non-null  object \n",
      " 1   BMI               10000 non-null  float64\n",
      " 2   Smoking           10000 non-null  object \n",
      " 3   AlcoholDrinking   10000 non-null  object \n",
      " 4   Stroke            10000 non-null  object \n",
      " 5   PhysicalHealth    10000 non-null  int64  \n",
      " 6   MentalHealth      10000 non-null  int64  \n",
      " 7   DiffWalking       10000 non-null  object \n",
      " 8   Sex               10000 non-null  object \n",
      " 9   AgeCategory       10000 non-null  object \n",
      " 10  Race              10000 non-null  object \n",
      " 11  Diabetic          10000 non-null  object \n",
      " 12  PhysicalActivity  10000 non-null  object \n",
      " 13  GenHealth         10000 non-null  object \n",
      " 14  SleepTime         10000 non-null  int64  \n",
      " 15  Asthma            10000 non-null  object \n",
      " 16  KidneyDisease     10000 non-null  object \n",
      " 17  SkinCancer        10000 non-null  object \n",
      "dtypes: float64(1), int64(3), object(14)\n",
      "memory usage: 1.4+ MB\n"
     ]
    }
   ],
   "source": [
    "data.info()"
   ]
  },
  {
   "cell_type": "code",
   "execution_count": 300,
   "id": "256ad24b",
   "metadata": {},
   "outputs": [
    {
     "data": {
      "text/plain": [
       "(10000, 9)"
      ]
     },
     "execution_count": 300,
     "metadata": {},
     "output_type": "execute_result"
    }
   ],
   "source": [
    "data = data.drop(['PhysicalHealth', 'MentalHealth', 'SkinCancer', 'KidneyDisease', 'Asthma', 'Stroke', 'Race', 'DiffWalking', 'GenHealth'], axis=1)\n",
    "\n",
    "data.shape"
   ]
  },
  {
   "cell_type": "code",
   "execution_count": 301,
   "id": "ec7e6862",
   "metadata": {},
   "outputs": [
    {
     "data": {
      "text/html": [
       "<div>\n",
       "<style scoped>\n",
       "    .dataframe tbody tr th:only-of-type {\n",
       "        vertical-align: middle;\n",
       "    }\n",
       "\n",
       "    .dataframe tbody tr th {\n",
       "        vertical-align: top;\n",
       "    }\n",
       "\n",
       "    .dataframe thead th {\n",
       "        text-align: right;\n",
       "    }\n",
       "</style>\n",
       "<table border=\"1\" class=\"dataframe\">\n",
       "  <thead>\n",
       "    <tr style=\"text-align: right;\">\n",
       "      <th></th>\n",
       "      <th>HeartDisease</th>\n",
       "      <th>BMI</th>\n",
       "      <th>Smoking</th>\n",
       "      <th>AlcoholDrinking</th>\n",
       "      <th>Sex</th>\n",
       "      <th>AgeCategory</th>\n",
       "      <th>Diabetic</th>\n",
       "      <th>PhysicalActivity</th>\n",
       "      <th>SleepTime</th>\n",
       "    </tr>\n",
       "  </thead>\n",
       "  <tbody>\n",
       "    <tr>\n",
       "      <th>0</th>\n",
       "      <td>No</td>\n",
       "      <td>16.60</td>\n",
       "      <td>Yes</td>\n",
       "      <td>No</td>\n",
       "      <td>Female</td>\n",
       "      <td>55-59</td>\n",
       "      <td>Yes</td>\n",
       "      <td>Yes</td>\n",
       "      <td>5</td>\n",
       "    </tr>\n",
       "    <tr>\n",
       "      <th>1</th>\n",
       "      <td>No</td>\n",
       "      <td>20.34</td>\n",
       "      <td>No</td>\n",
       "      <td>No</td>\n",
       "      <td>Female</td>\n",
       "      <td>80 or older</td>\n",
       "      <td>No</td>\n",
       "      <td>Yes</td>\n",
       "      <td>7</td>\n",
       "    </tr>\n",
       "    <tr>\n",
       "      <th>2</th>\n",
       "      <td>No</td>\n",
       "      <td>26.58</td>\n",
       "      <td>Yes</td>\n",
       "      <td>No</td>\n",
       "      <td>Male</td>\n",
       "      <td>65-69</td>\n",
       "      <td>Yes</td>\n",
       "      <td>Yes</td>\n",
       "      <td>8</td>\n",
       "    </tr>\n",
       "    <tr>\n",
       "      <th>3</th>\n",
       "      <td>No</td>\n",
       "      <td>24.21</td>\n",
       "      <td>No</td>\n",
       "      <td>No</td>\n",
       "      <td>Female</td>\n",
       "      <td>75-79</td>\n",
       "      <td>No</td>\n",
       "      <td>No</td>\n",
       "      <td>6</td>\n",
       "    </tr>\n",
       "    <tr>\n",
       "      <th>4</th>\n",
       "      <td>No</td>\n",
       "      <td>23.71</td>\n",
       "      <td>No</td>\n",
       "      <td>No</td>\n",
       "      <td>Female</td>\n",
       "      <td>40-44</td>\n",
       "      <td>No</td>\n",
       "      <td>Yes</td>\n",
       "      <td>8</td>\n",
       "    </tr>\n",
       "  </tbody>\n",
       "</table>\n",
       "</div>"
      ],
      "text/plain": [
       "  HeartDisease    BMI Smoking AlcoholDrinking     Sex  AgeCategory Diabetic  \\\n",
       "0           No  16.60     Yes              No  Female        55-59      Yes   \n",
       "1           No  20.34      No              No  Female  80 or older       No   \n",
       "2           No  26.58     Yes              No    Male        65-69      Yes   \n",
       "3           No  24.21      No              No  Female        75-79       No   \n",
       "4           No  23.71      No              No  Female        40-44       No   \n",
       "\n",
       "  PhysicalActivity  SleepTime  \n",
       "0              Yes          5  \n",
       "1              Yes          7  \n",
       "2              Yes          8  \n",
       "3               No          6  \n",
       "4              Yes          8  "
      ]
     },
     "execution_count": 301,
     "metadata": {},
     "output_type": "execute_result"
    }
   ],
   "source": [
    "data.head()"
   ]
  },
  {
   "cell_type": "code",
   "execution_count": 302,
   "id": "f7113802",
   "metadata": {},
   "outputs": [
    {
     "data": {
      "text/plain": [
       "HeartDisease        0\n",
       "BMI                 0\n",
       "Smoking             0\n",
       "AlcoholDrinking     0\n",
       "Sex                 0\n",
       "AgeCategory         0\n",
       "Diabetic            0\n",
       "PhysicalActivity    0\n",
       "SleepTime           0\n",
       "dtype: int64"
      ]
     },
     "execution_count": 302,
     "metadata": {},
     "output_type": "execute_result"
    }
   ],
   "source": [
    "# Missing Values\n",
    "data.isnull().sum().sort_values(ascending = False)"
   ]
  },
  {
   "cell_type": "code",
   "execution_count": 303,
   "id": "f5ceac6d",
   "metadata": {},
   "outputs": [],
   "source": [
    "data = pd.get_dummies(data, columns=['Smoking'])\n",
    "data = pd.get_dummies(data, columns=['AlcoholDrinking'])\n",
    "data = pd.get_dummies(data, columns=['Sex'])\n",
    "data = pd.get_dummies(data, columns=['Diabetic'])\n",
    "data = pd.get_dummies(data, columns=['PhysicalActivity'])"
   ]
  },
  {
   "cell_type": "code",
   "execution_count": 304,
   "id": "fb640e3c",
   "metadata": {},
   "outputs": [
    {
     "data": {
      "text/html": [
       "<div>\n",
       "<style scoped>\n",
       "    .dataframe tbody tr th:only-of-type {\n",
       "        vertical-align: middle;\n",
       "    }\n",
       "\n",
       "    .dataframe tbody tr th {\n",
       "        vertical-align: top;\n",
       "    }\n",
       "\n",
       "    .dataframe thead th {\n",
       "        text-align: right;\n",
       "    }\n",
       "</style>\n",
       "<table border=\"1\" class=\"dataframe\">\n",
       "  <thead>\n",
       "    <tr style=\"text-align: right;\">\n",
       "      <th></th>\n",
       "      <th>HeartDisease</th>\n",
       "      <th>BMI</th>\n",
       "      <th>AgeCategory</th>\n",
       "      <th>SleepTime</th>\n",
       "      <th>Smoking_No</th>\n",
       "      <th>Smoking_Yes</th>\n",
       "      <th>AlcoholDrinking_No</th>\n",
       "      <th>AlcoholDrinking_Yes</th>\n",
       "      <th>Sex_Female</th>\n",
       "      <th>Sex_Male</th>\n",
       "      <th>Diabetic_No</th>\n",
       "      <th>Diabetic_No, borderline diabetes</th>\n",
       "      <th>Diabetic_Yes</th>\n",
       "      <th>Diabetic_Yes (during pregnancy)</th>\n",
       "      <th>PhysicalActivity_No</th>\n",
       "      <th>PhysicalActivity_Yes</th>\n",
       "    </tr>\n",
       "  </thead>\n",
       "  <tbody>\n",
       "    <tr>\n",
       "      <th>0</th>\n",
       "      <td>No</td>\n",
       "      <td>16.60</td>\n",
       "      <td>55-59</td>\n",
       "      <td>5</td>\n",
       "      <td>0</td>\n",
       "      <td>1</td>\n",
       "      <td>1</td>\n",
       "      <td>0</td>\n",
       "      <td>1</td>\n",
       "      <td>0</td>\n",
       "      <td>0</td>\n",
       "      <td>0</td>\n",
       "      <td>1</td>\n",
       "      <td>0</td>\n",
       "      <td>0</td>\n",
       "      <td>1</td>\n",
       "    </tr>\n",
       "    <tr>\n",
       "      <th>1</th>\n",
       "      <td>No</td>\n",
       "      <td>20.34</td>\n",
       "      <td>80 or older</td>\n",
       "      <td>7</td>\n",
       "      <td>1</td>\n",
       "      <td>0</td>\n",
       "      <td>1</td>\n",
       "      <td>0</td>\n",
       "      <td>1</td>\n",
       "      <td>0</td>\n",
       "      <td>1</td>\n",
       "      <td>0</td>\n",
       "      <td>0</td>\n",
       "      <td>0</td>\n",
       "      <td>0</td>\n",
       "      <td>1</td>\n",
       "    </tr>\n",
       "    <tr>\n",
       "      <th>2</th>\n",
       "      <td>No</td>\n",
       "      <td>26.58</td>\n",
       "      <td>65-69</td>\n",
       "      <td>8</td>\n",
       "      <td>0</td>\n",
       "      <td>1</td>\n",
       "      <td>1</td>\n",
       "      <td>0</td>\n",
       "      <td>0</td>\n",
       "      <td>1</td>\n",
       "      <td>0</td>\n",
       "      <td>0</td>\n",
       "      <td>1</td>\n",
       "      <td>0</td>\n",
       "      <td>0</td>\n",
       "      <td>1</td>\n",
       "    </tr>\n",
       "    <tr>\n",
       "      <th>3</th>\n",
       "      <td>No</td>\n",
       "      <td>24.21</td>\n",
       "      <td>75-79</td>\n",
       "      <td>6</td>\n",
       "      <td>1</td>\n",
       "      <td>0</td>\n",
       "      <td>1</td>\n",
       "      <td>0</td>\n",
       "      <td>1</td>\n",
       "      <td>0</td>\n",
       "      <td>1</td>\n",
       "      <td>0</td>\n",
       "      <td>0</td>\n",
       "      <td>0</td>\n",
       "      <td>1</td>\n",
       "      <td>0</td>\n",
       "    </tr>\n",
       "    <tr>\n",
       "      <th>4</th>\n",
       "      <td>No</td>\n",
       "      <td>23.71</td>\n",
       "      <td>40-44</td>\n",
       "      <td>8</td>\n",
       "      <td>1</td>\n",
       "      <td>0</td>\n",
       "      <td>1</td>\n",
       "      <td>0</td>\n",
       "      <td>1</td>\n",
       "      <td>0</td>\n",
       "      <td>1</td>\n",
       "      <td>0</td>\n",
       "      <td>0</td>\n",
       "      <td>0</td>\n",
       "      <td>0</td>\n",
       "      <td>1</td>\n",
       "    </tr>\n",
       "  </tbody>\n",
       "</table>\n",
       "</div>"
      ],
      "text/plain": [
       "  HeartDisease    BMI  AgeCategory  SleepTime  Smoking_No  Smoking_Yes  \\\n",
       "0           No  16.60        55-59          5           0            1   \n",
       "1           No  20.34  80 or older          7           1            0   \n",
       "2           No  26.58        65-69          8           0            1   \n",
       "3           No  24.21        75-79          6           1            0   \n",
       "4           No  23.71        40-44          8           1            0   \n",
       "\n",
       "   AlcoholDrinking_No  AlcoholDrinking_Yes  Sex_Female  Sex_Male  Diabetic_No  \\\n",
       "0                   1                    0           1         0            0   \n",
       "1                   1                    0           1         0            1   \n",
       "2                   1                    0           0         1            0   \n",
       "3                   1                    0           1         0            1   \n",
       "4                   1                    0           1         0            1   \n",
       "\n",
       "   Diabetic_No, borderline diabetes  Diabetic_Yes  \\\n",
       "0                                 0             1   \n",
       "1                                 0             0   \n",
       "2                                 0             1   \n",
       "3                                 0             0   \n",
       "4                                 0             0   \n",
       "\n",
       "   Diabetic_Yes (during pregnancy)  PhysicalActivity_No  PhysicalActivity_Yes  \n",
       "0                                0                    0                     1  \n",
       "1                                0                    0                     1  \n",
       "2                                0                    0                     1  \n",
       "3                                0                    1                     0  \n",
       "4                                0                    0                     1  "
      ]
     },
     "execution_count": 304,
     "metadata": {},
     "output_type": "execute_result"
    }
   ],
   "source": [
    "data.head()"
   ]
  },
  {
   "cell_type": "code",
   "execution_count": 305,
   "id": "83065595",
   "metadata": {},
   "outputs": [
    {
     "data": {
      "text/plain": [
       "65-69          1232\n",
       "70-74          1105\n",
       "60-64          1100\n",
       "80 or older     891\n",
       "55-59           871\n",
       "75-79           806\n",
       "50-54           770\n",
       "45-49           623\n",
       "40-44           589\n",
       "35-39           572\n",
       "30-34           536\n",
       "18-24           484\n",
       "25-29           421\n",
       "Name: AgeCategory, dtype: int64"
      ]
     },
     "execution_count": 305,
     "metadata": {},
     "output_type": "execute_result"
    }
   ],
   "source": [
    "data['AgeCategory'].value_counts()"
   ]
  },
  {
   "cell_type": "code",
   "execution_count": 306,
   "id": "df5787e1",
   "metadata": {},
   "outputs": [],
   "source": [
    "data['AgeCategory'] = data['AgeCategory'].astype('category').cat.codes"
   ]
  },
  {
   "cell_type": "code",
   "execution_count": 307,
   "id": "3295f1d4",
   "metadata": {},
   "outputs": [],
   "source": [
    "data = data.replace({'HeartDisease': {'No': 0, 'Yes': 1}})"
   ]
  },
  {
   "cell_type": "code",
   "execution_count": 308,
   "id": "818c3042",
   "metadata": {},
   "outputs": [
    {
     "data": {
      "text/html": [
       "<div>\n",
       "<style scoped>\n",
       "    .dataframe tbody tr th:only-of-type {\n",
       "        vertical-align: middle;\n",
       "    }\n",
       "\n",
       "    .dataframe tbody tr th {\n",
       "        vertical-align: top;\n",
       "    }\n",
       "\n",
       "    .dataframe thead th {\n",
       "        text-align: right;\n",
       "    }\n",
       "</style>\n",
       "<table border=\"1\" class=\"dataframe\">\n",
       "  <thead>\n",
       "    <tr style=\"text-align: right;\">\n",
       "      <th></th>\n",
       "      <th>HeartDisease</th>\n",
       "      <th>BMI</th>\n",
       "      <th>AgeCategory</th>\n",
       "      <th>SleepTime</th>\n",
       "      <th>Smoking_No</th>\n",
       "      <th>Smoking_Yes</th>\n",
       "      <th>AlcoholDrinking_No</th>\n",
       "      <th>AlcoholDrinking_Yes</th>\n",
       "      <th>Sex_Female</th>\n",
       "      <th>Sex_Male</th>\n",
       "      <th>Diabetic_No</th>\n",
       "      <th>Diabetic_No, borderline diabetes</th>\n",
       "      <th>Diabetic_Yes</th>\n",
       "      <th>Diabetic_Yes (during pregnancy)</th>\n",
       "      <th>PhysicalActivity_No</th>\n",
       "      <th>PhysicalActivity_Yes</th>\n",
       "    </tr>\n",
       "  </thead>\n",
       "  <tbody>\n",
       "    <tr>\n",
       "      <th>0</th>\n",
       "      <td>0</td>\n",
       "      <td>16.60</td>\n",
       "      <td>7</td>\n",
       "      <td>5</td>\n",
       "      <td>0</td>\n",
       "      <td>1</td>\n",
       "      <td>1</td>\n",
       "      <td>0</td>\n",
       "      <td>1</td>\n",
       "      <td>0</td>\n",
       "      <td>0</td>\n",
       "      <td>0</td>\n",
       "      <td>1</td>\n",
       "      <td>0</td>\n",
       "      <td>0</td>\n",
       "      <td>1</td>\n",
       "    </tr>\n",
       "    <tr>\n",
       "      <th>1</th>\n",
       "      <td>0</td>\n",
       "      <td>20.34</td>\n",
       "      <td>12</td>\n",
       "      <td>7</td>\n",
       "      <td>1</td>\n",
       "      <td>0</td>\n",
       "      <td>1</td>\n",
       "      <td>0</td>\n",
       "      <td>1</td>\n",
       "      <td>0</td>\n",
       "      <td>1</td>\n",
       "      <td>0</td>\n",
       "      <td>0</td>\n",
       "      <td>0</td>\n",
       "      <td>0</td>\n",
       "      <td>1</td>\n",
       "    </tr>\n",
       "    <tr>\n",
       "      <th>2</th>\n",
       "      <td>0</td>\n",
       "      <td>26.58</td>\n",
       "      <td>9</td>\n",
       "      <td>8</td>\n",
       "      <td>0</td>\n",
       "      <td>1</td>\n",
       "      <td>1</td>\n",
       "      <td>0</td>\n",
       "      <td>0</td>\n",
       "      <td>1</td>\n",
       "      <td>0</td>\n",
       "      <td>0</td>\n",
       "      <td>1</td>\n",
       "      <td>0</td>\n",
       "      <td>0</td>\n",
       "      <td>1</td>\n",
       "    </tr>\n",
       "    <tr>\n",
       "      <th>3</th>\n",
       "      <td>0</td>\n",
       "      <td>24.21</td>\n",
       "      <td>11</td>\n",
       "      <td>6</td>\n",
       "      <td>1</td>\n",
       "      <td>0</td>\n",
       "      <td>1</td>\n",
       "      <td>0</td>\n",
       "      <td>1</td>\n",
       "      <td>0</td>\n",
       "      <td>1</td>\n",
       "      <td>0</td>\n",
       "      <td>0</td>\n",
       "      <td>0</td>\n",
       "      <td>1</td>\n",
       "      <td>0</td>\n",
       "    </tr>\n",
       "    <tr>\n",
       "      <th>4</th>\n",
       "      <td>0</td>\n",
       "      <td>23.71</td>\n",
       "      <td>4</td>\n",
       "      <td>8</td>\n",
       "      <td>1</td>\n",
       "      <td>0</td>\n",
       "      <td>1</td>\n",
       "      <td>0</td>\n",
       "      <td>1</td>\n",
       "      <td>0</td>\n",
       "      <td>1</td>\n",
       "      <td>0</td>\n",
       "      <td>0</td>\n",
       "      <td>0</td>\n",
       "      <td>0</td>\n",
       "      <td>1</td>\n",
       "    </tr>\n",
       "  </tbody>\n",
       "</table>\n",
       "</div>"
      ],
      "text/plain": [
       "   HeartDisease    BMI  AgeCategory  SleepTime  Smoking_No  Smoking_Yes  \\\n",
       "0             0  16.60            7          5           0            1   \n",
       "1             0  20.34           12          7           1            0   \n",
       "2             0  26.58            9          8           0            1   \n",
       "3             0  24.21           11          6           1            0   \n",
       "4             0  23.71            4          8           1            0   \n",
       "\n",
       "   AlcoholDrinking_No  AlcoholDrinking_Yes  Sex_Female  Sex_Male  Diabetic_No  \\\n",
       "0                   1                    0           1         0            0   \n",
       "1                   1                    0           1         0            1   \n",
       "2                   1                    0           0         1            0   \n",
       "3                   1                    0           1         0            1   \n",
       "4                   1                    0           1         0            1   \n",
       "\n",
       "   Diabetic_No, borderline diabetes  Diabetic_Yes  \\\n",
       "0                                 0             1   \n",
       "1                                 0             0   \n",
       "2                                 0             1   \n",
       "3                                 0             0   \n",
       "4                                 0             0   \n",
       "\n",
       "   Diabetic_Yes (during pregnancy)  PhysicalActivity_No  PhysicalActivity_Yes  \n",
       "0                                0                    0                     1  \n",
       "1                                0                    0                     1  \n",
       "2                                0                    0                     1  \n",
       "3                                0                    1                     0  \n",
       "4                                0                    0                     1  "
      ]
     },
     "execution_count": 308,
     "metadata": {},
     "output_type": "execute_result"
    }
   ],
   "source": [
    "data.head()"
   ]
  },
  {
   "cell_type": "code",
   "execution_count": 309,
   "id": "b304129b",
   "metadata": {},
   "outputs": [
    {
     "name": "stderr",
     "output_type": "stream",
     "text": [
      "<ipython-input-309-d9565333ed82>:8: SettingWithCopyWarning: \n",
      "A value is trying to be set on a copy of a slice from a DataFrame\n",
      "\n",
      "See the caveats in the documentation: https://pandas.pydata.org/pandas-docs/stable/user_guide/indexing.html#returning-a-view-versus-a-copy\n",
      "  X[i] = (X[i] - Min) / (Max - Min)\n"
     ]
    }
   ],
   "source": [
    "# Normalization\n",
    "\n",
    "N = len(data)\n",
    "def normalize(X):\n",
    "    Max = max(X)\n",
    "    Min = min(X)\n",
    "    for i in range(0, N):\n",
    "        X[i] = (X[i] - Min) / (Max - Min)\n",
    "        \n",
    "B = normalize(data['BMI'])"
   ]
  },
  {
   "cell_type": "code",
   "execution_count": 310,
   "id": "a7d4d785",
   "metadata": {},
   "outputs": [
    {
     "data": {
      "text/html": [
       "<div>\n",
       "<style scoped>\n",
       "    .dataframe tbody tr th:only-of-type {\n",
       "        vertical-align: middle;\n",
       "    }\n",
       "\n",
       "    .dataframe tbody tr th {\n",
       "        vertical-align: top;\n",
       "    }\n",
       "\n",
       "    .dataframe thead th {\n",
       "        text-align: right;\n",
       "    }\n",
       "</style>\n",
       "<table border=\"1\" class=\"dataframe\">\n",
       "  <thead>\n",
       "    <tr style=\"text-align: right;\">\n",
       "      <th></th>\n",
       "      <th>HeartDisease</th>\n",
       "      <th>BMI</th>\n",
       "      <th>AgeCategory</th>\n",
       "      <th>SleepTime</th>\n",
       "      <th>Smoking_No</th>\n",
       "      <th>Smoking_Yes</th>\n",
       "      <th>AlcoholDrinking_No</th>\n",
       "      <th>AlcoholDrinking_Yes</th>\n",
       "      <th>Sex_Female</th>\n",
       "      <th>Sex_Male</th>\n",
       "      <th>Diabetic_No</th>\n",
       "      <th>Diabetic_No, borderline diabetes</th>\n",
       "      <th>Diabetic_Yes</th>\n",
       "      <th>Diabetic_Yes (during pregnancy)</th>\n",
       "      <th>PhysicalActivity_No</th>\n",
       "      <th>PhysicalActivity_Yes</th>\n",
       "    </tr>\n",
       "  </thead>\n",
       "  <tbody>\n",
       "    <tr>\n",
       "      <th>0</th>\n",
       "      <td>0</td>\n",
       "      <td>0.058423</td>\n",
       "      <td>7</td>\n",
       "      <td>5</td>\n",
       "      <td>0</td>\n",
       "      <td>1</td>\n",
       "      <td>1</td>\n",
       "      <td>0</td>\n",
       "      <td>1</td>\n",
       "      <td>0</td>\n",
       "      <td>0</td>\n",
       "      <td>0</td>\n",
       "      <td>1</td>\n",
       "      <td>0</td>\n",
       "      <td>0</td>\n",
       "      <td>1</td>\n",
       "    </tr>\n",
       "    <tr>\n",
       "      <th>1</th>\n",
       "      <td>0</td>\n",
       "      <td>0.111458</td>\n",
       "      <td>12</td>\n",
       "      <td>7</td>\n",
       "      <td>1</td>\n",
       "      <td>0</td>\n",
       "      <td>1</td>\n",
       "      <td>0</td>\n",
       "      <td>1</td>\n",
       "      <td>0</td>\n",
       "      <td>1</td>\n",
       "      <td>0</td>\n",
       "      <td>0</td>\n",
       "      <td>0</td>\n",
       "      <td>0</td>\n",
       "      <td>1</td>\n",
       "    </tr>\n",
       "    <tr>\n",
       "      <th>2</th>\n",
       "      <td>0</td>\n",
       "      <td>0.199943</td>\n",
       "      <td>9</td>\n",
       "      <td>8</td>\n",
       "      <td>0</td>\n",
       "      <td>1</td>\n",
       "      <td>1</td>\n",
       "      <td>0</td>\n",
       "      <td>0</td>\n",
       "      <td>1</td>\n",
       "      <td>0</td>\n",
       "      <td>0</td>\n",
       "      <td>1</td>\n",
       "      <td>0</td>\n",
       "      <td>0</td>\n",
       "      <td>1</td>\n",
       "    </tr>\n",
       "    <tr>\n",
       "      <th>3</th>\n",
       "      <td>0</td>\n",
       "      <td>0.166336</td>\n",
       "      <td>11</td>\n",
       "      <td>6</td>\n",
       "      <td>1</td>\n",
       "      <td>0</td>\n",
       "      <td>1</td>\n",
       "      <td>0</td>\n",
       "      <td>1</td>\n",
       "      <td>0</td>\n",
       "      <td>1</td>\n",
       "      <td>0</td>\n",
       "      <td>0</td>\n",
       "      <td>0</td>\n",
       "      <td>1</td>\n",
       "      <td>0</td>\n",
       "    </tr>\n",
       "    <tr>\n",
       "      <th>4</th>\n",
       "      <td>0</td>\n",
       "      <td>0.159246</td>\n",
       "      <td>4</td>\n",
       "      <td>8</td>\n",
       "      <td>1</td>\n",
       "      <td>0</td>\n",
       "      <td>1</td>\n",
       "      <td>0</td>\n",
       "      <td>1</td>\n",
       "      <td>0</td>\n",
       "      <td>1</td>\n",
       "      <td>0</td>\n",
       "      <td>0</td>\n",
       "      <td>0</td>\n",
       "      <td>0</td>\n",
       "      <td>1</td>\n",
       "    </tr>\n",
       "  </tbody>\n",
       "</table>\n",
       "</div>"
      ],
      "text/plain": [
       "   HeartDisease       BMI  AgeCategory  SleepTime  Smoking_No  Smoking_Yes  \\\n",
       "0             0  0.058423            7          5           0            1   \n",
       "1             0  0.111458           12          7           1            0   \n",
       "2             0  0.199943            9          8           0            1   \n",
       "3             0  0.166336           11          6           1            0   \n",
       "4             0  0.159246            4          8           1            0   \n",
       "\n",
       "   AlcoholDrinking_No  AlcoholDrinking_Yes  Sex_Female  Sex_Male  Diabetic_No  \\\n",
       "0                   1                    0           1         0            0   \n",
       "1                   1                    0           1         0            1   \n",
       "2                   1                    0           0         1            0   \n",
       "3                   1                    0           1         0            1   \n",
       "4                   1                    0           1         0            1   \n",
       "\n",
       "   Diabetic_No, borderline diabetes  Diabetic_Yes  \\\n",
       "0                                 0             1   \n",
       "1                                 0             0   \n",
       "2                                 0             1   \n",
       "3                                 0             0   \n",
       "4                                 0             0   \n",
       "\n",
       "   Diabetic_Yes (during pregnancy)  PhysicalActivity_No  PhysicalActivity_Yes  \n",
       "0                                0                    0                     1  \n",
       "1                                0                    0                     1  \n",
       "2                                0                    0                     1  \n",
       "3                                0                    1                     0  \n",
       "4                                0                    0                     1  "
      ]
     },
     "execution_count": 310,
     "metadata": {},
     "output_type": "execute_result"
    }
   ],
   "source": [
    "data.head()"
   ]
  },
  {
   "cell_type": "markdown",
   "id": "096442f4",
   "metadata": {},
   "source": [
    "## Dataset Preparation and Splitting "
   ]
  },
  {
   "cell_type": "code",
   "execution_count": 311,
   "id": "feac9108",
   "metadata": {},
   "outputs": [
    {
     "data": {
      "text/html": [
       "<div>\n",
       "<style scoped>\n",
       "    .dataframe tbody tr th:only-of-type {\n",
       "        vertical-align: middle;\n",
       "    }\n",
       "\n",
       "    .dataframe tbody tr th {\n",
       "        vertical-align: top;\n",
       "    }\n",
       "\n",
       "    .dataframe thead th {\n",
       "        text-align: right;\n",
       "    }\n",
       "</style>\n",
       "<table border=\"1\" class=\"dataframe\">\n",
       "  <thead>\n",
       "    <tr style=\"text-align: right;\">\n",
       "      <th></th>\n",
       "      <th>BMI</th>\n",
       "      <th>AgeCategory</th>\n",
       "      <th>SleepTime</th>\n",
       "      <th>Smoking_No</th>\n",
       "      <th>Smoking_Yes</th>\n",
       "      <th>AlcoholDrinking_No</th>\n",
       "      <th>AlcoholDrinking_Yes</th>\n",
       "      <th>Sex_Female</th>\n",
       "      <th>Sex_Male</th>\n",
       "      <th>Diabetic_No</th>\n",
       "      <th>Diabetic_No, borderline diabetes</th>\n",
       "      <th>Diabetic_Yes</th>\n",
       "      <th>Diabetic_Yes (during pregnancy)</th>\n",
       "      <th>PhysicalActivity_No</th>\n",
       "      <th>PhysicalActivity_Yes</th>\n",
       "    </tr>\n",
       "  </thead>\n",
       "  <tbody>\n",
       "    <tr>\n",
       "      <th>0</th>\n",
       "      <td>0.058423</td>\n",
       "      <td>7</td>\n",
       "      <td>5</td>\n",
       "      <td>0</td>\n",
       "      <td>1</td>\n",
       "      <td>1</td>\n",
       "      <td>0</td>\n",
       "      <td>1</td>\n",
       "      <td>0</td>\n",
       "      <td>0</td>\n",
       "      <td>0</td>\n",
       "      <td>1</td>\n",
       "      <td>0</td>\n",
       "      <td>0</td>\n",
       "      <td>1</td>\n",
       "    </tr>\n",
       "    <tr>\n",
       "      <th>1</th>\n",
       "      <td>0.111458</td>\n",
       "      <td>12</td>\n",
       "      <td>7</td>\n",
       "      <td>1</td>\n",
       "      <td>0</td>\n",
       "      <td>1</td>\n",
       "      <td>0</td>\n",
       "      <td>1</td>\n",
       "      <td>0</td>\n",
       "      <td>1</td>\n",
       "      <td>0</td>\n",
       "      <td>0</td>\n",
       "      <td>0</td>\n",
       "      <td>0</td>\n",
       "      <td>1</td>\n",
       "    </tr>\n",
       "    <tr>\n",
       "      <th>2</th>\n",
       "      <td>0.199943</td>\n",
       "      <td>9</td>\n",
       "      <td>8</td>\n",
       "      <td>0</td>\n",
       "      <td>1</td>\n",
       "      <td>1</td>\n",
       "      <td>0</td>\n",
       "      <td>0</td>\n",
       "      <td>1</td>\n",
       "      <td>0</td>\n",
       "      <td>0</td>\n",
       "      <td>1</td>\n",
       "      <td>0</td>\n",
       "      <td>0</td>\n",
       "      <td>1</td>\n",
       "    </tr>\n",
       "    <tr>\n",
       "      <th>3</th>\n",
       "      <td>0.166336</td>\n",
       "      <td>11</td>\n",
       "      <td>6</td>\n",
       "      <td>1</td>\n",
       "      <td>0</td>\n",
       "      <td>1</td>\n",
       "      <td>0</td>\n",
       "      <td>1</td>\n",
       "      <td>0</td>\n",
       "      <td>1</td>\n",
       "      <td>0</td>\n",
       "      <td>0</td>\n",
       "      <td>0</td>\n",
       "      <td>1</td>\n",
       "      <td>0</td>\n",
       "    </tr>\n",
       "    <tr>\n",
       "      <th>4</th>\n",
       "      <td>0.159246</td>\n",
       "      <td>4</td>\n",
       "      <td>8</td>\n",
       "      <td>1</td>\n",
       "      <td>0</td>\n",
       "      <td>1</td>\n",
       "      <td>0</td>\n",
       "      <td>1</td>\n",
       "      <td>0</td>\n",
       "      <td>1</td>\n",
       "      <td>0</td>\n",
       "      <td>0</td>\n",
       "      <td>0</td>\n",
       "      <td>0</td>\n",
       "      <td>1</td>\n",
       "    </tr>\n",
       "    <tr>\n",
       "      <th>...</th>\n",
       "      <td>...</td>\n",
       "      <td>...</td>\n",
       "      <td>...</td>\n",
       "      <td>...</td>\n",
       "      <td>...</td>\n",
       "      <td>...</td>\n",
       "      <td>...</td>\n",
       "      <td>...</td>\n",
       "      <td>...</td>\n",
       "      <td>...</td>\n",
       "      <td>...</td>\n",
       "      <td>...</td>\n",
       "      <td>...</td>\n",
       "      <td>...</td>\n",
       "      <td>...</td>\n",
       "    </tr>\n",
       "    <tr>\n",
       "      <th>7995</th>\n",
       "      <td>0.183210</td>\n",
       "      <td>12</td>\n",
       "      <td>7</td>\n",
       "      <td>0</td>\n",
       "      <td>1</td>\n",
       "      <td>1</td>\n",
       "      <td>0</td>\n",
       "      <td>0</td>\n",
       "      <td>1</td>\n",
       "      <td>1</td>\n",
       "      <td>0</td>\n",
       "      <td>0</td>\n",
       "      <td>0</td>\n",
       "      <td>0</td>\n",
       "      <td>1</td>\n",
       "    </tr>\n",
       "    <tr>\n",
       "      <th>7996</th>\n",
       "      <td>0.162082</td>\n",
       "      <td>12</td>\n",
       "      <td>8</td>\n",
       "      <td>1</td>\n",
       "      <td>0</td>\n",
       "      <td>1</td>\n",
       "      <td>0</td>\n",
       "      <td>1</td>\n",
       "      <td>0</td>\n",
       "      <td>1</td>\n",
       "      <td>0</td>\n",
       "      <td>0</td>\n",
       "      <td>0</td>\n",
       "      <td>0</td>\n",
       "      <td>1</td>\n",
       "    </tr>\n",
       "    <tr>\n",
       "      <th>7997</th>\n",
       "      <td>0.115145</td>\n",
       "      <td>12</td>\n",
       "      <td>9</td>\n",
       "      <td>0</td>\n",
       "      <td>1</td>\n",
       "      <td>1</td>\n",
       "      <td>0</td>\n",
       "      <td>1</td>\n",
       "      <td>0</td>\n",
       "      <td>1</td>\n",
       "      <td>0</td>\n",
       "      <td>0</td>\n",
       "      <td>0</td>\n",
       "      <td>0</td>\n",
       "      <td>1</td>\n",
       "    </tr>\n",
       "    <tr>\n",
       "      <th>7998</th>\n",
       "      <td>0.122093</td>\n",
       "      <td>12</td>\n",
       "      <td>8</td>\n",
       "      <td>0</td>\n",
       "      <td>1</td>\n",
       "      <td>1</td>\n",
       "      <td>0</td>\n",
       "      <td>1</td>\n",
       "      <td>0</td>\n",
       "      <td>1</td>\n",
       "      <td>0</td>\n",
       "      <td>0</td>\n",
       "      <td>0</td>\n",
       "      <td>0</td>\n",
       "      <td>1</td>\n",
       "    </tr>\n",
       "    <tr>\n",
       "      <th>7999</th>\n",
       "      <td>0.226886</td>\n",
       "      <td>5</td>\n",
       "      <td>6</td>\n",
       "      <td>1</td>\n",
       "      <td>0</td>\n",
       "      <td>1</td>\n",
       "      <td>0</td>\n",
       "      <td>0</td>\n",
       "      <td>1</td>\n",
       "      <td>1</td>\n",
       "      <td>0</td>\n",
       "      <td>0</td>\n",
       "      <td>0</td>\n",
       "      <td>0</td>\n",
       "      <td>1</td>\n",
       "    </tr>\n",
       "  </tbody>\n",
       "</table>\n",
       "<p>8000 rows × 15 columns</p>\n",
       "</div>"
      ],
      "text/plain": [
       "           BMI  AgeCategory  SleepTime  Smoking_No  Smoking_Yes  \\\n",
       "0     0.058423            7          5           0            1   \n",
       "1     0.111458           12          7           1            0   \n",
       "2     0.199943            9          8           0            1   \n",
       "3     0.166336           11          6           1            0   \n",
       "4     0.159246            4          8           1            0   \n",
       "...        ...          ...        ...         ...          ...   \n",
       "7995  0.183210           12          7           0            1   \n",
       "7996  0.162082           12          8           1            0   \n",
       "7997  0.115145           12          9           0            1   \n",
       "7998  0.122093           12          8           0            1   \n",
       "7999  0.226886            5          6           1            0   \n",
       "\n",
       "      AlcoholDrinking_No  AlcoholDrinking_Yes  Sex_Female  Sex_Male  \\\n",
       "0                      1                    0           1         0   \n",
       "1                      1                    0           1         0   \n",
       "2                      1                    0           0         1   \n",
       "3                      1                    0           1         0   \n",
       "4                      1                    0           1         0   \n",
       "...                  ...                  ...         ...       ...   \n",
       "7995                   1                    0           0         1   \n",
       "7996                   1                    0           1         0   \n",
       "7997                   1                    0           1         0   \n",
       "7998                   1                    0           1         0   \n",
       "7999                   1                    0           0         1   \n",
       "\n",
       "      Diabetic_No  Diabetic_No, borderline diabetes  Diabetic_Yes  \\\n",
       "0               0                                 0             1   \n",
       "1               1                                 0             0   \n",
       "2               0                                 0             1   \n",
       "3               1                                 0             0   \n",
       "4               1                                 0             0   \n",
       "...           ...                               ...           ...   \n",
       "7995            1                                 0             0   \n",
       "7996            1                                 0             0   \n",
       "7997            1                                 0             0   \n",
       "7998            1                                 0             0   \n",
       "7999            1                                 0             0   \n",
       "\n",
       "      Diabetic_Yes (during pregnancy)  PhysicalActivity_No  \\\n",
       "0                                   0                    0   \n",
       "1                                   0                    0   \n",
       "2                                   0                    0   \n",
       "3                                   0                    1   \n",
       "4                                   0                    0   \n",
       "...                               ...                  ...   \n",
       "7995                                0                    0   \n",
       "7996                                0                    0   \n",
       "7997                                0                    0   \n",
       "7998                                0                    0   \n",
       "7999                                0                    0   \n",
       "\n",
       "      PhysicalActivity_Yes  \n",
       "0                        1  \n",
       "1                        1  \n",
       "2                        1  \n",
       "3                        0  \n",
       "4                        1  \n",
       "...                    ...  \n",
       "7995                     1  \n",
       "7996                     1  \n",
       "7997                     1  \n",
       "7998                     1  \n",
       "7999                     1  \n",
       "\n",
       "[8000 rows x 15 columns]"
      ]
     },
     "execution_count": 311,
     "metadata": {},
     "output_type": "execute_result"
    }
   ],
   "source": [
    "X = data.drop('HeartDisease', axis=1)\n",
    "Y = data['HeartDisease'] #Target\n",
    "\n",
    "# First Try\n",
    "num_of_rows = int(len(data) * 0.8)\n",
    "\n",
    "X_train = X[:num_of_rows]\n",
    "X_test = X[num_of_rows:]\n",
    "\n",
    "Y_train = Y[:num_of_rows]\n",
    "Y_test = Y[num_of_rows:]\n",
    "x = Y[num_of_rows:]"
   ]
  },
  {
   "cell_type": "markdown",
   "id": "be9f3d7f",
   "metadata": {},
   "source": [
    "## Cross Validation"
   ]
  },
  {
   "cell_type": "markdown",
   "id": "9b014770",
   "metadata": {},
   "source": [
    "## Modeling"
   ]
  },
  {
   "cell_type": "markdown",
   "id": "77dfec7a",
   "metadata": {},
   "source": [
    "## KNN"
   ]
  },
  {
   "cell_type": "code",
   "execution_count": 290,
   "id": "80a19776",
   "metadata": {},
   "outputs": [
    {
     "data": {
      "text/plain": [
       "0.88"
      ]
     },
     "execution_count": 290,
     "metadata": {},
     "output_type": "execute_result"
    }
   ],
   "source": [
    "model = KNeighborsClassifier(n_neighbors = 10, metric= 'euclidean')\n",
    "model.fit(X_train,Y_train)\n",
    "pred_values = model.predict(X_test)\n",
    "acc1 = accuracy_score(pred_values , Y_test)\n",
    "acc1"
   ]
  },
  {
   "cell_type": "code",
   "execution_count": 291,
   "id": "444a75ac",
   "metadata": {},
   "outputs": [],
   "source": [
    "def Knn_Kfold(k, distance):\n",
    "    kf = KFold(n_splits=5, random_state=None)\n",
    "    model = KNeighborsClassifier(n_neighbors = k, metric= distance)\n",
    "\n",
    "    acc_score = []\n",
    " \n",
    "    for train_index , test_index in kf.split(X):\n",
    "        X_train , X_test = X.iloc[train_index,:],X.iloc[test_index,:]\n",
    "        Y_train , Y_test = Y[train_index] , Y[test_index]\n",
    "     \n",
    "        model.fit(X_train,Y_train)\n",
    "        pred_values = model.predict(X_test)\n",
    "     \n",
    "        acc = accuracy_score(pred_values , Y_test)\n",
    "        acc_score.append(acc)\n",
    "     \n",
    "    avg_acc_score = sum(acc_score)/5\n",
    "    \n",
    "    return acc_score, avg_acc_score"
   ]
  },
  {
   "cell_type": "code",
   "execution_count": 292,
   "id": "96660705",
   "metadata": {},
   "outputs": [],
   "source": [
    "def Knn_SKf(k, distance):\n",
    "    skf = StratifiedKFold(n_splits=10, shuffle=True, random_state=1) \n",
    "    model = KNeighborsClassifier(n_neighbors = k, metric=distance)\n",
    "    acc_stratified = []\n",
    "    for train_index, test_index in skf.split(X, Y): \n",
    "        X_train , X_test = X.iloc[train_index,:],X.iloc[test_index,:]\n",
    "        Y_train , Y_test = Y[train_index] , Y[test_index] \n",
    "    \n",
    "        model.fit(X_train, Y_train) \n",
    "        acc_stratified.append(model.score(X_test, Y_test))\n",
    "    \n",
    "    avg_acc_score = sum(acc_stratified)/10\n",
    "\n",
    "    return acc_stratified, avg_acc_score"
   ]
  },
  {
   "cell_type": "markdown",
   "id": "7cf7b615",
   "metadata": {},
   "source": [
    "### k = 10"
   ]
  },
  {
   "cell_type": "code",
   "execution_count": 293,
   "id": "1b3e16f7",
   "metadata": {},
   "outputs": [
    {
     "data": {
      "text/plain": [
       "([0.8695, 0.9005, 0.917, 0.918, 0.88], 0.897)"
      ]
     },
     "execution_count": 293,
     "metadata": {},
     "output_type": "execute_result"
    }
   ],
   "source": [
    "k10_1 = Knn_Kfold(10, 'euclidean')\n",
    "k10_1"
   ]
  },
  {
   "cell_type": "code",
   "execution_count": 294,
   "id": "a7a688d2",
   "metadata": {},
   "outputs": [
    {
     "data": {
      "text/plain": [
       "([0.8685, 0.9015, 0.9175, 0.9195, 0.8795], 0.8973000000000001)"
      ]
     },
     "execution_count": 294,
     "metadata": {},
     "output_type": "execute_result"
    }
   ],
   "source": [
    "k10_2 = Knn_Kfold(10, 'manhattan')\n",
    "k10_2"
   ]
  },
  {
   "cell_type": "code",
   "execution_count": 149,
   "id": "00e69371",
   "metadata": {},
   "outputs": [
    {
     "data": {
      "text/plain": [
       "([0.872, 0.899, 0.917, 0.9195, 0.882], 0.8978999999999999)"
      ]
     },
     "execution_count": 149,
     "metadata": {},
     "output_type": "execute_result"
    }
   ],
   "source": [
    "k10_3 = Knn_Kfold(10, 'minkowski')\n",
    "k10_3"
   ]
  },
  {
   "cell_type": "code",
   "execution_count": 150,
   "id": "77b98628",
   "metadata": {},
   "outputs": [
    {
     "data": {
      "text/plain": [
       "([0.895, 0.901, 0.901, 0.902, 0.895, 0.897, 0.902, 0.905, 0.897, 0.898],\n",
       " 0.8993)"
      ]
     },
     "execution_count": 150,
     "metadata": {},
     "output_type": "execute_result"
    }
   ],
   "source": [
    "sk10_1 = Knn_SKf(10, 'euclidean')\n",
    "sk10_1"
   ]
  },
  {
   "cell_type": "code",
   "execution_count": 151,
   "id": "5ba0640f",
   "metadata": {},
   "outputs": [
    {
     "data": {
      "text/plain": [
       "([0.895, 0.901, 0.901, 0.902, 0.894, 0.9, 0.902, 0.906, 0.898, 0.898],\n",
       " 0.8996999999999999)"
      ]
     },
     "execution_count": 151,
     "metadata": {},
     "output_type": "execute_result"
    }
   ],
   "source": [
    "sk10_2 = Knn_SKf(10, 'manhattan')\n",
    "sk10_2"
   ]
  },
  {
   "cell_type": "code",
   "execution_count": 152,
   "id": "8d8c599a",
   "metadata": {},
   "outputs": [
    {
     "data": {
      "text/plain": [
       "([0.895, 0.901, 0.901, 0.902, 0.895, 0.897, 0.902, 0.905, 0.897, 0.898],\n",
       " 0.8993)"
      ]
     },
     "execution_count": 152,
     "metadata": {},
     "output_type": "execute_result"
    }
   ],
   "source": [
    "sk10_3 = Knn_SKf(10, 'minkowski')\n",
    "sk10_3"
   ]
  },
  {
   "cell_type": "markdown",
   "id": "a7298c22",
   "metadata": {},
   "source": [
    "### k = 20"
   ]
  },
  {
   "cell_type": "code",
   "execution_count": 153,
   "id": "eb5bf4bc",
   "metadata": {},
   "outputs": [
    {
     "data": {
      "text/plain": [
       "([0.8735, 0.9015, 0.921, 0.926, 0.8865], 0.9017)"
      ]
     },
     "execution_count": 153,
     "metadata": {},
     "output_type": "execute_result"
    }
   ],
   "source": [
    "k20_1 = Knn_Kfold(20, 'euclidean')\n",
    "k20_1"
   ]
  },
  {
   "cell_type": "code",
   "execution_count": 154,
   "id": "ffbdd78f",
   "metadata": {},
   "outputs": [
    {
     "data": {
      "text/plain": [
       "([0.8735, 0.901, 0.9195, 0.927, 0.8875], 0.9017)"
      ]
     },
     "execution_count": 154,
     "metadata": {},
     "output_type": "execute_result"
    }
   ],
   "source": [
    "k20_2 = Knn_Kfold(20, 'manhattan')\n",
    "k20_2"
   ]
  },
  {
   "cell_type": "code",
   "execution_count": 155,
   "id": "94f303de",
   "metadata": {},
   "outputs": [
    {
     "data": {
      "text/plain": [
       "([0.8735, 0.9015, 0.921, 0.926, 0.8865], 0.9017)"
      ]
     },
     "execution_count": 155,
     "metadata": {},
     "output_type": "execute_result"
    }
   ],
   "source": [
    "k20_3 = Knn_Kfold(20, 'minkowski')\n",
    "k20_3"
   ]
  },
  {
   "cell_type": "code",
   "execution_count": 156,
   "id": "2affe438",
   "metadata": {},
   "outputs": [
    {
     "data": {
      "text/plain": [
       "([0.897, 0.901, 0.899, 0.898, 0.902, 0.903, 0.903, 0.905, 0.9, 0.899],\n",
       " 0.9007000000000002)"
      ]
     },
     "execution_count": 156,
     "metadata": {},
     "output_type": "execute_result"
    }
   ],
   "source": [
    "sk20_1 = Knn_SKf(20, 'euclidean')\n",
    "sk20_1"
   ]
  },
  {
   "cell_type": "code",
   "execution_count": 157,
   "id": "0d2fbc58",
   "metadata": {},
   "outputs": [
    {
     "data": {
      "text/plain": [
       "([0.897, 0.901, 0.899, 0.901, 0.902, 0.904, 0.904, 0.906, 0.902, 0.9], 0.9016)"
      ]
     },
     "execution_count": 157,
     "metadata": {},
     "output_type": "execute_result"
    }
   ],
   "source": [
    "sk20_2 = Knn_SKf(20, 'manhattan')\n",
    "sk20_2"
   ]
  },
  {
   "cell_type": "code",
   "execution_count": 158,
   "id": "5ee31609",
   "metadata": {},
   "outputs": [
    {
     "data": {
      "text/plain": [
       "([0.897, 0.901, 0.899, 0.898, 0.902, 0.903, 0.903, 0.905, 0.9, 0.899],\n",
       " 0.9007000000000002)"
      ]
     },
     "execution_count": 158,
     "metadata": {},
     "output_type": "execute_result"
    }
   ],
   "source": [
    "sk20_3 = Knn_SKf(20, 'minkowski')\n",
    "sk20_3"
   ]
  },
  {
   "cell_type": "markdown",
   "id": "c0163ce2",
   "metadata": {},
   "source": [
    "### k = 30"
   ]
  },
  {
   "cell_type": "code",
   "execution_count": 159,
   "id": "5756afb8",
   "metadata": {},
   "outputs": [
    {
     "data": {
      "text/plain": [
       "([0.873, 0.9, 0.92, 0.926, 0.891], 0.9019999999999999)"
      ]
     },
     "execution_count": 159,
     "metadata": {},
     "output_type": "execute_result"
    }
   ],
   "source": [
    "k30_1 = Knn_Kfold(30, 'euclidean')\n",
    "k30_1"
   ]
  },
  {
   "cell_type": "code",
   "execution_count": 160,
   "id": "39c112c2",
   "metadata": {},
   "outputs": [
    {
     "data": {
      "text/plain": [
       "([0.874, 0.901, 0.9195, 0.9265, 0.889], 0.9019999999999999)"
      ]
     },
     "execution_count": 160,
     "metadata": {},
     "output_type": "execute_result"
    }
   ],
   "source": [
    "k30_2 = Knn_Kfold(30, 'manhattan')\n",
    "k30_2"
   ]
  },
  {
   "cell_type": "code",
   "execution_count": 161,
   "id": "b2f4e658",
   "metadata": {},
   "outputs": [
    {
     "data": {
      "text/plain": [
       "([0.873, 0.9, 0.92, 0.926, 0.891], 0.9019999999999999)"
      ]
     },
     "execution_count": 161,
     "metadata": {},
     "output_type": "execute_result"
    }
   ],
   "source": [
    "k30_3 = Knn_Kfold(30, 'minkowski')\n",
    "k30_3"
   ]
  },
  {
   "cell_type": "code",
   "execution_count": 162,
   "id": "1cfe6447",
   "metadata": {},
   "outputs": [
    {
     "data": {
      "text/plain": [
       "([0.9, 0.899, 0.902, 0.902, 0.902, 0.903, 0.901, 0.901, 0.898, 0.9],\n",
       " 0.9007999999999999)"
      ]
     },
     "execution_count": 162,
     "metadata": {},
     "output_type": "execute_result"
    }
   ],
   "source": [
    "sk30_1 = Knn_SKf(30, 'euclidean')\n",
    "sk30_1"
   ]
  },
  {
   "cell_type": "code",
   "execution_count": 163,
   "id": "5915e16f",
   "metadata": {},
   "outputs": [
    {
     "data": {
      "text/plain": [
       "([0.9, 0.901, 0.9, 0.902, 0.9, 0.906, 0.901, 0.903, 0.899, 0.9],\n",
       " 0.9011999999999999)"
      ]
     },
     "execution_count": 163,
     "metadata": {},
     "output_type": "execute_result"
    }
   ],
   "source": [
    "sk30_2 = Knn_SKf(30, 'manhattan')\n",
    "sk30_2"
   ]
  },
  {
   "cell_type": "code",
   "execution_count": 164,
   "id": "a787a2f2",
   "metadata": {},
   "outputs": [
    {
     "data": {
      "text/plain": [
       "([0.9, 0.899, 0.902, 0.902, 0.902, 0.903, 0.901, 0.901, 0.898, 0.9],\n",
       " 0.9007999999999999)"
      ]
     },
     "execution_count": 164,
     "metadata": {},
     "output_type": "execute_result"
    }
   ],
   "source": [
    "sk30_3 = Knn_SKf(30, 'minkowski')\n",
    "sk30_3"
   ]
  },
  {
   "cell_type": "markdown",
   "id": "c5d99dbc",
   "metadata": {},
   "source": [
    "### k = 40"
   ]
  },
  {
   "cell_type": "code",
   "execution_count": 165,
   "id": "c9c08788",
   "metadata": {},
   "outputs": [
    {
     "data": {
      "text/plain": [
       "([0.873, 0.9005, 0.92, 0.9245, 0.889], 0.9014)"
      ]
     },
     "execution_count": 165,
     "metadata": {},
     "output_type": "execute_result"
    }
   ],
   "source": [
    "k40_1 = Knn_Kfold(40, 'euclidean')\n",
    "k40_1"
   ]
  },
  {
   "cell_type": "code",
   "execution_count": 166,
   "id": "d4efa331",
   "metadata": {},
   "outputs": [
    {
     "data": {
      "text/plain": [
       "([0.8745, 0.9, 0.919, 0.9255, 0.89], 0.9018)"
      ]
     },
     "execution_count": 166,
     "metadata": {},
     "output_type": "execute_result"
    }
   ],
   "source": [
    "k40_2 = Knn_Kfold(40, 'manhattan')\n",
    "k40_2"
   ]
  },
  {
   "cell_type": "code",
   "execution_count": 167,
   "id": "588395db",
   "metadata": {},
   "outputs": [
    {
     "data": {
      "text/plain": [
       "([0.873, 0.9005, 0.92, 0.9245, 0.889], 0.9014)"
      ]
     },
     "execution_count": 167,
     "metadata": {},
     "output_type": "execute_result"
    }
   ],
   "source": [
    "k40_3 = Knn_Kfold(40, 'minkowski')\n",
    "k40_3"
   ]
  },
  {
   "cell_type": "code",
   "execution_count": 168,
   "id": "646b4b4b",
   "metadata": {},
   "outputs": [
    {
     "data": {
      "text/plain": [
       "([0.902, 0.902, 0.903, 0.902, 0.901, 0.903, 0.901, 0.9, 0.899, 0.9], 0.9013)"
      ]
     },
     "execution_count": 168,
     "metadata": {},
     "output_type": "execute_result"
    }
   ],
   "source": [
    "sk40_1 = Knn_SKf(40, 'euclidean')\n",
    "sk40_1"
   ]
  },
  {
   "cell_type": "code",
   "execution_count": 169,
   "id": "97acf7a7",
   "metadata": {},
   "outputs": [
    {
     "data": {
      "text/plain": [
       "([0.902, 0.901, 0.902, 0.901, 0.901, 0.905, 0.901, 0.904, 0.899, 0.899],\n",
       " 0.9015000000000001)"
      ]
     },
     "execution_count": 169,
     "metadata": {},
     "output_type": "execute_result"
    }
   ],
   "source": [
    "sk40_2 = Knn_SKf(40, 'manhattan')\n",
    "sk40_2"
   ]
  },
  {
   "cell_type": "code",
   "execution_count": 170,
   "id": "c58783d5",
   "metadata": {},
   "outputs": [
    {
     "data": {
      "text/plain": [
       "([0.902, 0.902, 0.903, 0.902, 0.901, 0.903, 0.901, 0.9, 0.899, 0.9], 0.9013)"
      ]
     },
     "execution_count": 170,
     "metadata": {},
     "output_type": "execute_result"
    }
   ],
   "source": [
    "sk40_3 = Knn_SKf(40, 'minkowski')\n",
    "sk40_3"
   ]
  },
  {
   "cell_type": "markdown",
   "id": "d1bbaea9",
   "metadata": {},
   "source": [
    "### k = 50"
   ]
  },
  {
   "cell_type": "code",
   "execution_count": 171,
   "id": "2e9aa283",
   "metadata": {},
   "outputs": [
    {
     "data": {
      "text/plain": [
       "([0.873, 0.901, 0.9195, 0.925, 0.8885], 0.9014)"
      ]
     },
     "execution_count": 171,
     "metadata": {},
     "output_type": "execute_result"
    }
   ],
   "source": [
    "k50_1 = Knn_Kfold(50, 'euclidean')\n",
    "k50_1"
   ]
  },
  {
   "cell_type": "code",
   "execution_count": 172,
   "id": "b1f9e6aa",
   "metadata": {},
   "outputs": [
    {
     "data": {
      "text/plain": [
       "([0.874, 0.9005, 0.919, 0.9255, 0.8885], 0.9015000000000001)"
      ]
     },
     "execution_count": 172,
     "metadata": {},
     "output_type": "execute_result"
    }
   ],
   "source": [
    "k50_2 = Knn_Kfold(50, 'manhattan')\n",
    "k50_2"
   ]
  },
  {
   "cell_type": "code",
   "execution_count": 173,
   "id": "e2824d6f",
   "metadata": {},
   "outputs": [
    {
     "data": {
      "text/plain": [
       "([0.873, 0.901, 0.9195, 0.925, 0.8885], 0.9014)"
      ]
     },
     "execution_count": 173,
     "metadata": {},
     "output_type": "execute_result"
    }
   ],
   "source": [
    "k50_3 = Knn_Kfold(50, 'minkowski')\n",
    "k50_3"
   ]
  },
  {
   "cell_type": "code",
   "execution_count": 174,
   "id": "bbcdd7e3",
   "metadata": {},
   "outputs": [
    {
     "data": {
      "text/plain": [
       "([0.902, 0.902, 0.902, 0.902, 0.901, 0.903, 0.901, 0.901, 0.9, 0.9],\n",
       " 0.9014000000000001)"
      ]
     },
     "execution_count": 174,
     "metadata": {},
     "output_type": "execute_result"
    }
   ],
   "source": [
    "sk50_1 = Knn_SKf(50, 'euclidean')\n",
    "sk50_1"
   ]
  },
  {
   "cell_type": "code",
   "execution_count": 175,
   "id": "afb1c7bc",
   "metadata": {},
   "outputs": [
    {
     "data": {
      "text/plain": [
       "([0.904, 0.901, 0.902, 0.902, 0.9, 0.904, 0.901, 0.902, 0.9, 0.9], 0.9016)"
      ]
     },
     "execution_count": 175,
     "metadata": {},
     "output_type": "execute_result"
    }
   ],
   "source": [
    "sk50_2 = Knn_SKf(50, 'manhattan')\n",
    "sk50_2"
   ]
  },
  {
   "cell_type": "code",
   "execution_count": 176,
   "id": "dece4681",
   "metadata": {},
   "outputs": [
    {
     "data": {
      "text/plain": [
       "([0.902, 0.902, 0.902, 0.902, 0.901, 0.903, 0.901, 0.901, 0.9, 0.9],\n",
       " 0.9014000000000001)"
      ]
     },
     "execution_count": 176,
     "metadata": {},
     "output_type": "execute_result"
    }
   ],
   "source": [
    "sk50_3 = Knn_SKf(50, 'minkowski')\n",
    "sk50_3"
   ]
  },
  {
   "cell_type": "code",
   "execution_count": 177,
   "id": "d0931b53",
   "metadata": {},
   "outputs": [
    {
     "data": {
      "text/plain": [
       "Text(0, 0.5, 'Accuracy')"
      ]
     },
     "execution_count": 177,
     "metadata": {},
     "output_type": "execute_result"
    },
    {
     "data": {
      "image/png": "[encoded data removed]",
      "text/plain": [
       "<Figure size 432x288 with 1 Axes>"
      ]
     },
     "metadata": {
      "needs_background": "light"
     },
     "output_type": "display_data"
    }
   ],
   "source": [
    "accuracy = [k10_1[1], k20_1[1], k30_1[1], k40_1[1], k50_1[1]]\n",
    "k = [10, 20, 30, 40, 50]\n",
    "plt.plot(k, accuracy, color = 'green', linestyle = 'solid', marker = 'o')\n",
    "plt.title('Accuracy vs. K value')\n",
    "plt.xlabel('K')\n",
    "plt.ylabel('Accuracy')"
   ]
  },
  {
   "cell_type": "code",
   "execution_count": 178,
   "id": "3ce2cad2",
   "metadata": {},
   "outputs": [
    {
     "data": {
      "text/plain": [
       "Text(0, 0.5, 'Accuracy')"
      ]
     },
     "execution_count": 178,
     "metadata": {},
     "output_type": "execute_result"
    },
    {
     "data": {
      "image/png": "[encoded data removed]",
      "text/plain": [
       "<Figure size 432x288 with 1 Axes>"
      ]
     },
     "metadata": {
      "needs_background": "light"
     },
     "output_type": "display_data"
    }
   ],
   "source": [
    "accuracy = [k10_1[1], k10_2[1], k10_3[1]]\n",
    "Metric = ['euclidean', 'manhattan', 'minkowski']\n",
    "plt.plot(Metric, accuracy, color = 'purple', linestyle = 'solid', marker = 'o')\n",
    "plt.title('Accuracy vs. Metrics')\n",
    "plt.xlabel('Metric')\n",
    "plt.ylabel('Accuracy')"
   ]
  },
  {
   "cell_type": "code",
   "execution_count": 179,
   "id": "f86fea33",
   "metadata": {},
   "outputs": [
    {
     "data": {
      "text/plain": [
       "Text(0, 0.5, 'Accuracy')"
      ]
     },
     "execution_count": 179,
     "metadata": {},
     "output_type": "execute_result"
    },
    {
     "data": {
      "image/png": "[encoded data removed]",
      "text/plain": [
       "<Figure size 432x288 with 1 Axes>"
      ]
     },
     "metadata": {
      "needs_background": "light"
     },
     "output_type": "display_data"
    }
   ],
   "source": [
    "accuracy = [acc1, k10_2[1], sk10_1[1]]\n",
    "k = ['Train_Test', 'Kfold', 'Skfold']\n",
    "plt.plot(k, accuracy, color = 'yellow', linestyle = 'solid', marker = 'o')\n",
    "plt.title('Accuracy vs. Validation')\n",
    "plt.xlabel('Validation')\n",
    "plt.ylabel('Accuracy')"
   ]
  },
  {
   "cell_type": "markdown",
   "id": "12dc5e07",
   "metadata": {},
   "source": [
    "## Naive Bayes"
   ]
  },
  {
   "cell_type": "code",
   "execution_count": 180,
   "id": "ee43f4d6",
   "metadata": {},
   "outputs": [
    {
     "data": {
      "text/html": [
       "<style>#sk-container-id-2 {color: black;background-color: white;}#sk-container-id-2 pre{padding: 0;}#sk-container-id-2 div.sk-toggleable {background-color: white;}#sk-container-id-2 label.sk-toggleable__label {cursor: pointer;display: block;width: 100%;margin-bottom: 0;padding: 0.3em;box-sizing: border-box;text-align: center;}#sk-container-id-2 label.sk-toggleable__label-arrow:before {content: \"▸\";float: left;margin-right: 0.25em;color: #696969;}#sk-container-id-2 label.sk-toggleable__label-arrow:hover:before {color: black;}#sk-container-id-2 div.sk-estimator:hover label.sk-toggleable__label-arrow:before {color: black;}#sk-container-id-2 div.sk-toggleable__content {max-height: 0;max-width: 0;overflow: hidden;text-align: left;background-color: #f0f8ff;}#sk-container-id-2 div.sk-toggleable__content pre {margin: 0.2em;color: black;border-radius: 0.25em;background-color: #f0f8ff;}#sk-container-id-2 input.sk-toggleable__control:checked~div.sk-toggleable__content {max-height: 200px;max-width: 100%;overflow: auto;}#sk-container-id-2 input.sk-toggleable__control:checked~label.sk-toggleable__label-arrow:before {content: \"▾\";}#sk-container-id-2 div.sk-estimator input.sk-toggleable__control:checked~label.sk-toggleable__label {background-color: #d4ebff;}#sk-container-id-2 div.sk-label input.sk-toggleable__control:checked~label.sk-toggleable__label {background-color: #d4ebff;}#sk-container-id-2 input.sk-hidden--visually {border: 0;clip: rect(1px 1px 1px 1px);clip: rect(1px, 1px, 1px, 1px);height: 1px;margin: -1px;overflow: hidden;padding: 0;position: absolute;width: 1px;}#sk-container-id-2 div.sk-estimator {font-family: monospace;background-color: #f0f8ff;border: 1px dotted black;border-radius: 0.25em;box-sizing: border-box;margin-bottom: 0.5em;}#sk-container-id-2 div.sk-estimator:hover {background-color: #d4ebff;}#sk-container-id-2 div.sk-parallel-item::after {content: \"\";width: 100%;border-bottom: 1px solid gray;flex-grow: 1;}#sk-container-id-2 div.sk-label:hover label.sk-toggleable__label {background-color: #d4ebff;}#sk-container-id-2 div.sk-serial::before {content: \"\";position: absolute;border-left: 1px solid gray;box-sizing: border-box;top: 0;bottom: 0;left: 50%;z-index: 0;}#sk-container-id-2 div.sk-serial {display: flex;flex-direction: column;align-items: center;background-color: white;padding-right: 0.2em;padding-left: 0.2em;position: relative;}#sk-container-id-2 div.sk-item {position: relative;z-index: 1;}#sk-container-id-2 div.sk-parallel {display: flex;align-items: stretch;justify-content: center;background-color: white;position: relative;}#sk-container-id-2 div.sk-item::before, #sk-container-id-2 div.sk-parallel-item::before {content: \"\";position: absolute;border-left: 1px solid gray;box-sizing: border-box;top: 0;bottom: 0;left: 50%;z-index: -1;}#sk-container-id-2 div.sk-parallel-item {display: flex;flex-direction: column;z-index: 1;position: relative;background-color: white;}#sk-container-id-2 div.sk-parallel-item:first-child::after {align-self: flex-end;width: 50%;}#sk-container-id-2 div.sk-parallel-item:last-child::after {align-self: flex-start;width: 50%;}#sk-container-id-2 div.sk-parallel-item:only-child::after {width: 0;}#sk-container-id-2 div.sk-dashed-wrapped {border: 1px dashed gray;margin: 0 0.4em 0.5em 0.4em;box-sizing: border-box;padding-bottom: 0.4em;background-color: white;}#sk-container-id-2 div.sk-label label {font-family: monospace;font-weight: bold;display: inline-block;line-height: 1.2em;}#sk-container-id-2 div.sk-label-container {text-align: center;}#sk-container-id-2 div.sk-container {/* jupyter's `normalize.less` sets `[hidden] { display: none; }` but bootstrap.min.css set `[hidden] { display: none !important; }` so we also need the `!important` here to be able to override the default hidden behavior on the sphinx rendered scikit-learn.org. See: https://github.com/scikit-learn/scikit-learn/issues/21755 */display: inline-block !important;position: relative;}#sk-container-id-2 div.sk-text-repr-fallback {display: none;}</style><div id=\"sk-container-id-2\" class=\"sk-top-container\"><div class=\"sk-text-repr-fallback\"><pre>GaussianNB()</pre><b>In a Jupyter environment, please rerun this cell to show the HTML representation or trust the notebook. <br />On GitHub, the HTML representation is unable to render, please try loading this page with nbviewer.org.</b></div><div class=\"sk-container\" hidden><div class=\"sk-item\"><div class=\"sk-estimator sk-toggleable\"><input class=\"sk-toggleable__control sk-hidden--visually\" id=\"sk-estimator-id-2\" type=\"checkbox\" checked><label for=\"sk-estimator-id-2\" class=\"sk-toggleable__label sk-toggleable__label-arrow\">GaussianNB</label><div class=\"sk-toggleable__content\"><pre>GaussianNB()</pre></div></div></div></div></div>"
      ],
      "text/plain": [
       "GaussianNB()"
      ]
     },
     "execution_count": 180,
     "metadata": {},
     "output_type": "execute_result"
    }
   ],
   "source": [
    "from sklearn.naive_bayes import GaussianNB\n",
    "clf = GaussianNB()\n",
    "clf.fit(X_train, Y_train)"
   ]
  },
  {
   "cell_type": "code",
   "execution_count": 181,
   "id": "d2ceb558",
   "metadata": {},
   "outputs": [
    {
     "data": {
      "text/plain": [
       "array([0, 0, 1, ..., 0, 1, 0])"
      ]
     },
     "execution_count": 181,
     "metadata": {},
     "output_type": "execute_result"
    }
   ],
   "source": [
    "pred_values = clf.predict(X_test)\n",
    "pred_values"
   ]
  },
  {
   "cell_type": "code",
   "execution_count": 182,
   "id": "33636c37",
   "metadata": {},
   "outputs": [
    {
     "data": {
      "text/plain": [
       "0.755"
      ]
     },
     "execution_count": 182,
     "metadata": {},
     "output_type": "execute_result"
    }
   ],
   "source": [
    "acc = accuracy_score(pred_values , Y_test)\n",
    "acc"
   ]
  },
  {
   "cell_type": "code",
   "execution_count": 312,
   "id": "25cf0670",
   "metadata": {},
   "outputs": [
    {
     "name": "stdout",
     "output_type": "stream",
     "text": [
      "accuracy of each fold - [0.262, 0.8075, 0.8195, 0.8425, 0.755]\n",
      "Avg accuracy : 0.6973\n"
     ]
    },
    {
     "data": {
      "text/html": [
       "<div>\n",
       "<style scoped>\n",
       "    .dataframe tbody tr th:only-of-type {\n",
       "        vertical-align: middle;\n",
       "    }\n",
       "\n",
       "    .dataframe tbody tr th {\n",
       "        vertical-align: top;\n",
       "    }\n",
       "\n",
       "    .dataframe thead th {\n",
       "        text-align: right;\n",
       "    }\n",
       "</style>\n",
       "<table border=\"1\" class=\"dataframe\">\n",
       "  <thead>\n",
       "    <tr style=\"text-align: right;\">\n",
       "      <th></th>\n",
       "      <th>BMI</th>\n",
       "      <th>AgeCategory</th>\n",
       "      <th>SleepTime</th>\n",
       "      <th>Smoking_No</th>\n",
       "      <th>Smoking_Yes</th>\n",
       "      <th>AlcoholDrinking_No</th>\n",
       "      <th>AlcoholDrinking_Yes</th>\n",
       "      <th>Sex_Female</th>\n",
       "      <th>Sex_Male</th>\n",
       "      <th>Diabetic_No</th>\n",
       "      <th>Diabetic_No, borderline diabetes</th>\n",
       "      <th>Diabetic_Yes</th>\n",
       "      <th>Diabetic_Yes (during pregnancy)</th>\n",
       "      <th>PhysicalActivity_No</th>\n",
       "      <th>PhysicalActivity_Yes</th>\n",
       "    </tr>\n",
       "  </thead>\n",
       "  <tbody>\n",
       "    <tr>\n",
       "      <th>0</th>\n",
       "      <td>0.058423</td>\n",
       "      <td>7</td>\n",
       "      <td>5</td>\n",
       "      <td>0</td>\n",
       "      <td>1</td>\n",
       "      <td>1</td>\n",
       "      <td>0</td>\n",
       "      <td>1</td>\n",
       "      <td>0</td>\n",
       "      <td>0</td>\n",
       "      <td>0</td>\n",
       "      <td>1</td>\n",
       "      <td>0</td>\n",
       "      <td>0</td>\n",
       "      <td>1</td>\n",
       "    </tr>\n",
       "    <tr>\n",
       "      <th>1</th>\n",
       "      <td>0.111458</td>\n",
       "      <td>12</td>\n",
       "      <td>7</td>\n",
       "      <td>1</td>\n",
       "      <td>0</td>\n",
       "      <td>1</td>\n",
       "      <td>0</td>\n",
       "      <td>1</td>\n",
       "      <td>0</td>\n",
       "      <td>1</td>\n",
       "      <td>0</td>\n",
       "      <td>0</td>\n",
       "      <td>0</td>\n",
       "      <td>0</td>\n",
       "      <td>1</td>\n",
       "    </tr>\n",
       "    <tr>\n",
       "      <th>2</th>\n",
       "      <td>0.199943</td>\n",
       "      <td>9</td>\n",
       "      <td>8</td>\n",
       "      <td>0</td>\n",
       "      <td>1</td>\n",
       "      <td>1</td>\n",
       "      <td>0</td>\n",
       "      <td>0</td>\n",
       "      <td>1</td>\n",
       "      <td>0</td>\n",
       "      <td>0</td>\n",
       "      <td>1</td>\n",
       "      <td>0</td>\n",
       "      <td>0</td>\n",
       "      <td>1</td>\n",
       "    </tr>\n",
       "    <tr>\n",
       "      <th>3</th>\n",
       "      <td>0.166336</td>\n",
       "      <td>11</td>\n",
       "      <td>6</td>\n",
       "      <td>1</td>\n",
       "      <td>0</td>\n",
       "      <td>1</td>\n",
       "      <td>0</td>\n",
       "      <td>1</td>\n",
       "      <td>0</td>\n",
       "      <td>1</td>\n",
       "      <td>0</td>\n",
       "      <td>0</td>\n",
       "      <td>0</td>\n",
       "      <td>1</td>\n",
       "      <td>0</td>\n",
       "    </tr>\n",
       "    <tr>\n",
       "      <th>4</th>\n",
       "      <td>0.159246</td>\n",
       "      <td>4</td>\n",
       "      <td>8</td>\n",
       "      <td>1</td>\n",
       "      <td>0</td>\n",
       "      <td>1</td>\n",
       "      <td>0</td>\n",
       "      <td>1</td>\n",
       "      <td>0</td>\n",
       "      <td>1</td>\n",
       "      <td>0</td>\n",
       "      <td>0</td>\n",
       "      <td>0</td>\n",
       "      <td>0</td>\n",
       "      <td>1</td>\n",
       "    </tr>\n",
       "    <tr>\n",
       "      <th>...</th>\n",
       "      <td>...</td>\n",
       "      <td>...</td>\n",
       "      <td>...</td>\n",
       "      <td>...</td>\n",
       "      <td>...</td>\n",
       "      <td>...</td>\n",
       "      <td>...</td>\n",
       "      <td>...</td>\n",
       "      <td>...</td>\n",
       "      <td>...</td>\n",
       "      <td>...</td>\n",
       "      <td>...</td>\n",
       "      <td>...</td>\n",
       "      <td>...</td>\n",
       "      <td>...</td>\n",
       "    </tr>\n",
       "    <tr>\n",
       "      <th>7995</th>\n",
       "      <td>0.183210</td>\n",
       "      <td>12</td>\n",
       "      <td>7</td>\n",
       "      <td>0</td>\n",
       "      <td>1</td>\n",
       "      <td>1</td>\n",
       "      <td>0</td>\n",
       "      <td>0</td>\n",
       "      <td>1</td>\n",
       "      <td>1</td>\n",
       "      <td>0</td>\n",
       "      <td>0</td>\n",
       "      <td>0</td>\n",
       "      <td>0</td>\n",
       "      <td>1</td>\n",
       "    </tr>\n",
       "    <tr>\n",
       "      <th>7996</th>\n",
       "      <td>0.162082</td>\n",
       "      <td>12</td>\n",
       "      <td>8</td>\n",
       "      <td>1</td>\n",
       "      <td>0</td>\n",
       "      <td>1</td>\n",
       "      <td>0</td>\n",
       "      <td>1</td>\n",
       "      <td>0</td>\n",
       "      <td>1</td>\n",
       "      <td>0</td>\n",
       "      <td>0</td>\n",
       "      <td>0</td>\n",
       "      <td>0</td>\n",
       "      <td>1</td>\n",
       "    </tr>\n",
       "    <tr>\n",
       "      <th>7997</th>\n",
       "      <td>0.115145</td>\n",
       "      <td>12</td>\n",
       "      <td>9</td>\n",
       "      <td>0</td>\n",
       "      <td>1</td>\n",
       "      <td>1</td>\n",
       "      <td>0</td>\n",
       "      <td>1</td>\n",
       "      <td>0</td>\n",
       "      <td>1</td>\n",
       "      <td>0</td>\n",
       "      <td>0</td>\n",
       "      <td>0</td>\n",
       "      <td>0</td>\n",
       "      <td>1</td>\n",
       "    </tr>\n",
       "    <tr>\n",
       "      <th>7998</th>\n",
       "      <td>0.122093</td>\n",
       "      <td>12</td>\n",
       "      <td>8</td>\n",
       "      <td>0</td>\n",
       "      <td>1</td>\n",
       "      <td>1</td>\n",
       "      <td>0</td>\n",
       "      <td>1</td>\n",
       "      <td>0</td>\n",
       "      <td>1</td>\n",
       "      <td>0</td>\n",
       "      <td>0</td>\n",
       "      <td>0</td>\n",
       "      <td>0</td>\n",
       "      <td>1</td>\n",
       "    </tr>\n",
       "    <tr>\n",
       "      <th>7999</th>\n",
       "      <td>0.226886</td>\n",
       "      <td>5</td>\n",
       "      <td>6</td>\n",
       "      <td>1</td>\n",
       "      <td>0</td>\n",
       "      <td>1</td>\n",
       "      <td>0</td>\n",
       "      <td>0</td>\n",
       "      <td>1</td>\n",
       "      <td>1</td>\n",
       "      <td>0</td>\n",
       "      <td>0</td>\n",
       "      <td>0</td>\n",
       "      <td>0</td>\n",
       "      <td>1</td>\n",
       "    </tr>\n",
       "  </tbody>\n",
       "</table>\n",
       "<p>8000 rows × 15 columns</p>\n",
       "</div>"
      ],
      "text/plain": [
       "           BMI  AgeCategory  SleepTime  Smoking_No  Smoking_Yes  \\\n",
       "0     0.058423            7          5           0            1   \n",
       "1     0.111458           12          7           1            0   \n",
       "2     0.199943            9          8           0            1   \n",
       "3     0.166336           11          6           1            0   \n",
       "4     0.159246            4          8           1            0   \n",
       "...        ...          ...        ...         ...          ...   \n",
       "7995  0.183210           12          7           0            1   \n",
       "7996  0.162082           12          8           1            0   \n",
       "7997  0.115145           12          9           0            1   \n",
       "7998  0.122093           12          8           0            1   \n",
       "7999  0.226886            5          6           1            0   \n",
       "\n",
       "      AlcoholDrinking_No  AlcoholDrinking_Yes  Sex_Female  Sex_Male  \\\n",
       "0                      1                    0           1         0   \n",
       "1                      1                    0           1         0   \n",
       "2                      1                    0           0         1   \n",
       "3                      1                    0           1         0   \n",
       "4                      1                    0           1         0   \n",
       "...                  ...                  ...         ...       ...   \n",
       "7995                   1                    0           0         1   \n",
       "7996                   1                    0           1         0   \n",
       "7997                   1                    0           1         0   \n",
       "7998                   1                    0           1         0   \n",
       "7999                   1                    0           0         1   \n",
       "\n",
       "      Diabetic_No  Diabetic_No, borderline diabetes  Diabetic_Yes  \\\n",
       "0               0                                 0             1   \n",
       "1               1                                 0             0   \n",
       "2               0                                 0             1   \n",
       "3               1                                 0             0   \n",
       "4               1                                 0             0   \n",
       "...           ...                               ...           ...   \n",
       "7995            1                                 0             0   \n",
       "7996            1                                 0             0   \n",
       "7997            1                                 0             0   \n",
       "7998            1                                 0             0   \n",
       "7999            1                                 0             0   \n",
       "\n",
       "      Diabetic_Yes (during pregnancy)  PhysicalActivity_No  \\\n",
       "0                                   0                    0   \n",
       "1                                   0                    0   \n",
       "2                                   0                    0   \n",
       "3                                   0                    1   \n",
       "4                                   0                    0   \n",
       "...                               ...                  ...   \n",
       "7995                                0                    0   \n",
       "7996                                0                    0   \n",
       "7997                                0                    0   \n",
       "7998                                0                    0   \n",
       "7999                                0                    0   \n",
       "\n",
       "      PhysicalActivity_Yes  \n",
       "0                        1  \n",
       "1                        1  \n",
       "2                        1  \n",
       "3                        0  \n",
       "4                        1  \n",
       "...                    ...  \n",
       "7995                     1  \n",
       "7996                     1  \n",
       "7997                     1  \n",
       "7998                     1  \n",
       "7999                     1  \n",
       "\n",
       "[8000 rows x 15 columns]"
      ]
     },
     "execution_count": 312,
     "metadata": {},
     "output_type": "execute_result"
    }
   ],
   "source": [
    "kf = KFold(n_splits=5, random_state=None)\n",
    "model = GaussianNB()\n",
    "\n",
    "acc_score = []\n",
    " \n",
    "for train_index , test_index in kf.split(X):\n",
    "    X_train , X_test = X.iloc[train_index,:],X.iloc[test_index,:]\n",
    "    Y_train , Y_test = Y[train_index] , Y[test_index]\n",
    "    \n",
    "    model.fit(X_train,Y_train)\n",
    "    pred_values = model.predict(X_test)\n",
    "    \n",
    "    acc = accuracy_score(pred_values , Y_test)\n",
    "    acc_score.append(acc)\n",
    "     \n",
    "avg_acc_score = sum(acc_score)/5\n",
    " \n",
    "print('accuracy of each fold - {}'.format(acc_score))\n",
    "print('Avg accuracy : {}'.format(avg_acc_score))\n",
    "X_train"
   ]
  },
  {
   "cell_type": "code",
   "execution_count": 184,
   "id": "d55b0260",
   "metadata": {},
   "outputs": [
    {
     "name": "stdout",
     "output_type": "stream",
     "text": [
      "accuracy of each fold - [0.788, 0.804, 0.808, 0.783, 0.785, 0.77, 0.797, 0.786, 0.796, 0.304]\n",
      "Avg accuracy : 0.7421\n"
     ]
    }
   ],
   "source": [
    "skf = StratifiedKFold(n_splits=10, shuffle=True, random_state=1) \n",
    "model = GaussianNB()\n",
    "lst_accu_stratified = []\n",
    "for train_index, test_index in skf.split(X, Y): \n",
    "    X_train , X_test = X.iloc[train_index,:],X.iloc[test_index,:]\n",
    "    Y_train , Y_test = Y[train_index] , Y[test_index] \n",
    "    \n",
    "    model.fit(X_train, Y_train) \n",
    "    lst_accu_stratified.append(model.score(X_test, Y_test))\n",
    "    \n",
    "avg_acc_score1 = sum(lst_accu_stratified)/10\n",
    "\n",
    "print('accuracy of each fold - {}'.format(lst_accu_stratified))\n",
    "print('Avg accuracy : {}'.format(avg_acc_score1))"
   ]
  },
  {
   "cell_type": "code",
   "execution_count": 185,
   "id": "e1375397",
   "metadata": {},
   "outputs": [
    {
     "data": {
      "text/plain": [
       "Text(0, 0.5, 'Accuracy')"
      ]
     },
     "execution_count": 185,
     "metadata": {},
     "output_type": "execute_result"
    },
    {
     "data": {
      "image/png": "[encoded data removed]",
      "text/plain": [
       "<Figure size 432x288 with 1 Axes>"
      ]
     },
     "metadata": {
      "needs_background": "light"
     },
     "output_type": "display_data"
    }
   ],
   "source": [
    "accuracy = [acc, avg_acc_score, avg_acc_score1]\n",
    "k = ['Train_Test', 'Kfold', 'Skfold']\n",
    "plt.plot(k, accuracy, color = 'orange', linestyle = 'solid', marker = 'o')\n",
    "plt.title('Accuracy vs. Validation')\n",
    "plt.xlabel('Validation')\n",
    "plt.ylabel('Accuracy')"
   ]
  },
  {
   "cell_type": "code",
   "execution_count": 281,
   "id": "eb3a7f24",
   "metadata": {},
   "outputs": [
    {
     "data": {
      "text/html": [
       "<div>\n",
       "<style scoped>\n",
       "    .dataframe tbody tr th:only-of-type {\n",
       "        vertical-align: middle;\n",
       "    }\n",
       "\n",
       "    .dataframe tbody tr th {\n",
       "        vertical-align: top;\n",
       "    }\n",
       "\n",
       "    .dataframe thead th {\n",
       "        text-align: right;\n",
       "    }\n",
       "</style>\n",
       "<table border=\"1\" class=\"dataframe\">\n",
       "  <thead>\n",
       "    <tr style=\"text-align: right;\">\n",
       "      <th></th>\n",
       "      <th>BMI</th>\n",
       "      <th>Smoking</th>\n",
       "      <th>AlcoholDrinking</th>\n",
       "      <th>Sex</th>\n",
       "      <th>AgeCategory</th>\n",
       "      <th>Diabetic</th>\n",
       "      <th>PhysicalActivity</th>\n",
       "      <th>SleepTime</th>\n",
       "    </tr>\n",
       "  </thead>\n",
       "  <tbody>\n",
       "    <tr>\n",
       "      <th>0</th>\n",
       "      <td>0.058423</td>\n",
       "      <td>1</td>\n",
       "      <td>0</td>\n",
       "      <td>1</td>\n",
       "      <td>7</td>\n",
       "      <td>2</td>\n",
       "      <td>1</td>\n",
       "      <td>5</td>\n",
       "    </tr>\n",
       "    <tr>\n",
       "      <th>1</th>\n",
       "      <td>0.111458</td>\n",
       "      <td>0</td>\n",
       "      <td>0</td>\n",
       "      <td>1</td>\n",
       "      <td>12</td>\n",
       "      <td>0</td>\n",
       "      <td>1</td>\n",
       "      <td>7</td>\n",
       "    </tr>\n",
       "    <tr>\n",
       "      <th>2</th>\n",
       "      <td>0.199943</td>\n",
       "      <td>1</td>\n",
       "      <td>0</td>\n",
       "      <td>0</td>\n",
       "      <td>9</td>\n",
       "      <td>2</td>\n",
       "      <td>1</td>\n",
       "      <td>8</td>\n",
       "    </tr>\n",
       "    <tr>\n",
       "      <th>3</th>\n",
       "      <td>0.166336</td>\n",
       "      <td>0</td>\n",
       "      <td>0</td>\n",
       "      <td>1</td>\n",
       "      <td>11</td>\n",
       "      <td>0</td>\n",
       "      <td>0</td>\n",
       "      <td>6</td>\n",
       "    </tr>\n",
       "    <tr>\n",
       "      <th>4</th>\n",
       "      <td>0.159246</td>\n",
       "      <td>0</td>\n",
       "      <td>0</td>\n",
       "      <td>1</td>\n",
       "      <td>4</td>\n",
       "      <td>0</td>\n",
       "      <td>1</td>\n",
       "      <td>8</td>\n",
       "    </tr>\n",
       "  </tbody>\n",
       "</table>\n",
       "</div>"
      ],
      "text/plain": [
       "        BMI  Smoking  AlcoholDrinking  Sex  AgeCategory  Diabetic  \\\n",
       "0  0.058423        1                0    1            7         2   \n",
       "1  0.111458        0                0    1           12         0   \n",
       "2  0.199943        1                0    0            9         2   \n",
       "3  0.166336        0                0    1           11         0   \n",
       "4  0.159246        0                0    1            4         0   \n",
       "\n",
       "   PhysicalActivity  SleepTime  \n",
       "0                 1          5  \n",
       "1                 1          7  \n",
       "2                 1          8  \n",
       "3                 0          6  \n",
       "4                 1          8  "
      ]
     },
     "execution_count": 281,
     "metadata": {},
     "output_type": "execute_result"
    }
   ],
   "source": [
    "X_train.head()"
   ]
  },
  {
   "cell_type": "code",
   "execution_count": 318,
   "id": "9a20df0d",
   "metadata": {},
   "outputs": [],
   "source": [
    "count = X_train.shape[0]\n",
    "\n",
    "p_s_no = X_train['Smoking_No'].value_counts()[1] / count\n",
    "p_s_yes = X_train['Smoking_Yes'].value_counts()[1] / count\n",
    "\n",
    "p_a_no = X_train['AlcoholDrinking_No'].value_counts()[1] / count\n",
    "p_a_yes = X_train['AlcoholDrinking_Yes'].value_counts()[1] / count\n",
    "\n",
    "p_se_f = X_train['Sex_Female'].value_counts()[1] / count\n",
    "p_se_m = X_train['Sex_Male'].value_counts()[1] / count\n",
    "\n",
    "p_d_no = X_train['Diabetic_No'].value_counts()[1] / count\n",
    "p_d_nob = X_train['Diabetic_No, borderline diabetes'].value_counts()[1] / count\n",
    "p_d_yes = X_train['Diabetic_Yes'].value_counts()[1] / count\n",
    "p_d_yesd = X_train['Diabetic_Yes (during pregnancy)'].value_counts()[1] / count\n",
    "\n",
    "p_p_no = X_train['PhysicalActivity_No'].value_counts()[1] / count\n",
    "p_p_yes = X_train['PhysicalActivity_Yes'].value_counts()[1] / count\n"
   ]
  },
  {
   "cell_type": "code",
   "execution_count": 319,
   "id": "9281f132",
   "metadata": {},
   "outputs": [],
   "source": [
    "count = data.shape[0]\n",
    "p_y = data['HeartDisease'].value_counts()[1] / count\n",
    "p_n = data['HeartDisease'].value_counts()[0] / count"
   ]
  },
  {
   "cell_type": "code",
   "execution_count": 322,
   "id": "d3ef0024",
   "metadata": {},
   "outputs": [],
   "source": [
    "for i in Y_train:\n",
    "    if i == 0:\n",
    "        mean_b_n = data['BMI'].mean()\n",
    "        std_b_n = data['BMI'].std()\n",
    "    else:\n",
    "        mean_b_y = data['BMI'].mean()\n",
    "        std_b_y = data['BMI'].std()"
   ]
  },
  {
   "cell_type": "code",
   "execution_count": 323,
   "id": "6dd5df81",
   "metadata": {},
   "outputs": [],
   "source": [
    "for i in Y_train:\n",
    "    if i == 0:\n",
    "        mean_a_n = data['AgeCategory'].mean()\n",
    "        std_a_n = data['AgeCategory'].std()\n",
    "    else:\n",
    "        mean_a_y = data['AgeCategory'].mean()\n",
    "        std_a_y = data['AgeCategory'].std()"
   ]
  },
  {
   "cell_type": "code",
   "execution_count": 325,
   "id": "46e0e93b",
   "metadata": {},
   "outputs": [],
   "source": [
    "for i in Y_train:\n",
    "    if i == 0:\n",
    "        mean_s_n = data['SleepTime'].mean()\n",
    "        std_s_n = data['SleepTime'].std()\n",
    "    else:\n",
    "        mean_s_y = data['SleepTime'].mean()\n",
    "        std_s_y = data['SleepTime'].std()"
   ]
  },
  {
   "cell_type": "code",
   "execution_count": 326,
   "id": "9fb83f9f",
   "metadata": {},
   "outputs": [
    {
     "data": {
      "text/html": [
       "<div>\n",
       "<style scoped>\n",
       "    .dataframe tbody tr th:only-of-type {\n",
       "        vertical-align: middle;\n",
       "    }\n",
       "\n",
       "    .dataframe tbody tr th {\n",
       "        vertical-align: top;\n",
       "    }\n",
       "\n",
       "    .dataframe thead th {\n",
       "        text-align: right;\n",
       "    }\n",
       "</style>\n",
       "<table border=\"1\" class=\"dataframe\">\n",
       "  <thead>\n",
       "    <tr style=\"text-align: right;\">\n",
       "      <th></th>\n",
       "      <th>HeartDisease</th>\n",
       "      <th>Smoking</th>\n",
       "      <th>AlcoholDrinking</th>\n",
       "      <th>Sex</th>\n",
       "      <th>Diabetic</th>\n",
       "      <th>PhysicalActivity</th>\n",
       "      <th>BMI</th>\n",
       "      <th>AgeCategory</th>\n",
       "      <th>SleepTime</th>\n",
       "    </tr>\n",
       "  </thead>\n",
       "  <tbody>\n",
       "    <tr>\n",
       "      <th>0</th>\n",
       "      <td>0.0986</td>\n",
       "      <td>0.447625</td>\n",
       "      <td>0.06375</td>\n",
       "      <td>0.548125</td>\n",
       "      <td>[0.827875, 0.022]</td>\n",
       "      <td>0.2535</td>\n",
       "      <td>[0.2290278644356201, 0.09152602383570861]</td>\n",
       "      <td>[6.9893, 3.4805454931221584]</td>\n",
       "      <td>[7.1273, 1.5176709269484232]</td>\n",
       "    </tr>\n",
       "    <tr>\n",
       "      <th>1</th>\n",
       "      <td>0.9014</td>\n",
       "      <td>0.552375</td>\n",
       "      <td>0.93625</td>\n",
       "      <td>0.451875</td>\n",
       "      <td>[0.142, 0.008125]</td>\n",
       "      <td>0.7465</td>\n",
       "      <td>[0.2290278644356201, 0.09152602383570861]</td>\n",
       "      <td>[6.9893, 3.4805454931221584]</td>\n",
       "      <td>[7.1273, 1.5176709269484232]</td>\n",
       "    </tr>\n",
       "  </tbody>\n",
       "</table>\n",
       "</div>"
      ],
      "text/plain": [
       "   HeartDisease   Smoking  AlcoholDrinking       Sex           Diabetic  \\\n",
       "0        0.0986  0.447625          0.06375  0.548125  [0.827875, 0.022]   \n",
       "1        0.9014  0.552375          0.93625  0.451875  [0.142, 0.008125]   \n",
       "\n",
       "   PhysicalActivity                                        BMI  \\\n",
       "0            0.2535  [0.2290278644356201, 0.09152602383570861]   \n",
       "1            0.7465  [0.2290278644356201, 0.09152602383570861]   \n",
       "\n",
       "                    AgeCategory                     SleepTime  \n",
       "0  [6.9893, 3.4805454931221584]  [7.1273, 1.5176709269484232]  \n",
       "1  [6.9893, 3.4805454931221584]  [7.1273, 1.5176709269484232]  "
      ]
     },
     "execution_count": 326,
     "metadata": {},
     "output_type": "execute_result"
    }
   ],
   "source": [
    "Diabetic_x = [[p_d_no, p_d_nob], [p_d_yes, p_d_yesd]]\n",
    "BMI_x = [[mean_b_n, std_b_n], [mean_b_y, std_b_y]]\n",
    "AgeCategory_x = [[mean_a_y, std_a_y], [mean_a_n, std_a_n]]\n",
    "SleepTime_x = [[mean_s_y, std_s_y], [mean_s_n, std_s_n]]\n",
    "\n",
    "d = {'HeartDisease': [p_y, p_n], 'Smoking': [p_s_yes, p_s_no], 'AlcoholDrinking': [p_a_yes, p_a_no],\n",
    "    'Sex': [p_se_f, p_se_m], 'Diabetic': Diabetic_x, 'PhysicalActivity': [p_p_no, p_p_yes], 'BMI': BMI_x, 'AgeCategory': AgeCategory_x, 'SleepTime': SleepTime_x}\n",
    "\n",
    "df = pd.DataFrame(data=d)\n",
    "df.head()"
   ]
  },
  {
   "cell_type": "markdown",
   "id": "1ab6e35c",
   "metadata": {},
   "source": [
    "## Import data"
   ]
  },
  {
   "cell_type": "code",
   "execution_count": 193,
   "id": "b8b95677",
   "metadata": {},
   "outputs": [
    {
     "data": {
      "text/html": [
       "<div>\n",
       "<style scoped>\n",
       "    .dataframe tbody tr th:only-of-type {\n",
       "        vertical-align: middle;\n",
       "    }\n",
       "\n",
       "    .dataframe tbody tr th {\n",
       "        vertical-align: top;\n",
       "    }\n",
       "\n",
       "    .dataframe thead th {\n",
       "        text-align: right;\n",
       "    }\n",
       "</style>\n",
       "<table border=\"1\" class=\"dataframe\">\n",
       "  <thead>\n",
       "    <tr style=\"text-align: right;\">\n",
       "      <th></th>\n",
       "      <th>HeartDisease</th>\n",
       "      <th>BMI</th>\n",
       "      <th>Smoking</th>\n",
       "      <th>AlcoholDrinking</th>\n",
       "      <th>Stroke</th>\n",
       "      <th>PhysicalHealth</th>\n",
       "      <th>MentalHealth</th>\n",
       "      <th>DiffWalking</th>\n",
       "      <th>Sex</th>\n",
       "      <th>AgeCategory</th>\n",
       "      <th>Race</th>\n",
       "      <th>Diabetic</th>\n",
       "      <th>PhysicalActivity</th>\n",
       "      <th>GenHealth</th>\n",
       "      <th>SleepTime</th>\n",
       "      <th>Asthma</th>\n",
       "      <th>KidneyDisease</th>\n",
       "      <th>SkinCancer</th>\n",
       "    </tr>\n",
       "  </thead>\n",
       "  <tbody>\n",
       "    <tr>\n",
       "      <th>0</th>\n",
       "      <td>No</td>\n",
       "      <td>16.60</td>\n",
       "      <td>Yes</td>\n",
       "      <td>No</td>\n",
       "      <td>No</td>\n",
       "      <td>3</td>\n",
       "      <td>30</td>\n",
       "      <td>No</td>\n",
       "      <td>Female</td>\n",
       "      <td>55-59</td>\n",
       "      <td>White</td>\n",
       "      <td>Yes</td>\n",
       "      <td>Yes</td>\n",
       "      <td>Very good</td>\n",
       "      <td>5</td>\n",
       "      <td>Yes</td>\n",
       "      <td>No</td>\n",
       "      <td>Yes</td>\n",
       "    </tr>\n",
       "    <tr>\n",
       "      <th>1</th>\n",
       "      <td>No</td>\n",
       "      <td>20.34</td>\n",
       "      <td>No</td>\n",
       "      <td>No</td>\n",
       "      <td>Yes</td>\n",
       "      <td>0</td>\n",
       "      <td>0</td>\n",
       "      <td>No</td>\n",
       "      <td>Female</td>\n",
       "      <td>80 or older</td>\n",
       "      <td>White</td>\n",
       "      <td>No</td>\n",
       "      <td>Yes</td>\n",
       "      <td>Very good</td>\n",
       "      <td>7</td>\n",
       "      <td>No</td>\n",
       "      <td>No</td>\n",
       "      <td>No</td>\n",
       "    </tr>\n",
       "    <tr>\n",
       "      <th>2</th>\n",
       "      <td>No</td>\n",
       "      <td>26.58</td>\n",
       "      <td>Yes</td>\n",
       "      <td>No</td>\n",
       "      <td>No</td>\n",
       "      <td>20</td>\n",
       "      <td>30</td>\n",
       "      <td>No</td>\n",
       "      <td>Male</td>\n",
       "      <td>65-69</td>\n",
       "      <td>White</td>\n",
       "      <td>Yes</td>\n",
       "      <td>Yes</td>\n",
       "      <td>Fair</td>\n",
       "      <td>8</td>\n",
       "      <td>Yes</td>\n",
       "      <td>No</td>\n",
       "      <td>No</td>\n",
       "    </tr>\n",
       "    <tr>\n",
       "      <th>3</th>\n",
       "      <td>No</td>\n",
       "      <td>24.21</td>\n",
       "      <td>No</td>\n",
       "      <td>No</td>\n",
       "      <td>No</td>\n",
       "      <td>0</td>\n",
       "      <td>0</td>\n",
       "      <td>No</td>\n",
       "      <td>Female</td>\n",
       "      <td>75-79</td>\n",
       "      <td>White</td>\n",
       "      <td>No</td>\n",
       "      <td>No</td>\n",
       "      <td>Good</td>\n",
       "      <td>6</td>\n",
       "      <td>No</td>\n",
       "      <td>No</td>\n",
       "      <td>Yes</td>\n",
       "    </tr>\n",
       "    <tr>\n",
       "      <th>4</th>\n",
       "      <td>No</td>\n",
       "      <td>23.71</td>\n",
       "      <td>No</td>\n",
       "      <td>No</td>\n",
       "      <td>No</td>\n",
       "      <td>28</td>\n",
       "      <td>0</td>\n",
       "      <td>Yes</td>\n",
       "      <td>Female</td>\n",
       "      <td>40-44</td>\n",
       "      <td>White</td>\n",
       "      <td>No</td>\n",
       "      <td>Yes</td>\n",
       "      <td>Very good</td>\n",
       "      <td>8</td>\n",
       "      <td>No</td>\n",
       "      <td>No</td>\n",
       "      <td>No</td>\n",
       "    </tr>\n",
       "  </tbody>\n",
       "</table>\n",
       "</div>"
      ],
      "text/plain": [
       "  HeartDisease    BMI Smoking AlcoholDrinking Stroke  PhysicalHealth  \\\n",
       "0           No  16.60     Yes              No     No               3   \n",
       "1           No  20.34      No              No    Yes               0   \n",
       "2           No  26.58     Yes              No     No              20   \n",
       "3           No  24.21      No              No     No               0   \n",
       "4           No  23.71      No              No     No              28   \n",
       "\n",
       "   MentalHealth DiffWalking     Sex  AgeCategory   Race Diabetic  \\\n",
       "0            30          No  Female        55-59  White      Yes   \n",
       "1             0          No  Female  80 or older  White       No   \n",
       "2            30          No    Male        65-69  White      Yes   \n",
       "3             0          No  Female        75-79  White       No   \n",
       "4             0         Yes  Female        40-44  White       No   \n",
       "\n",
       "  PhysicalActivity  GenHealth  SleepTime Asthma KidneyDisease SkinCancer  \n",
       "0              Yes  Very good          5    Yes            No        Yes  \n",
       "1              Yes  Very good          7     No            No         No  \n",
       "2              Yes       Fair          8    Yes            No         No  \n",
       "3               No       Good          6     No            No        Yes  \n",
       "4              Yes  Very good          8     No            No         No  "
      ]
     },
     "execution_count": 193,
     "metadata": {},
     "output_type": "execute_result"
    }
   ],
   "source": [
    "data = pd.read_csv('heart_disease.csv')\n",
    "\n",
    "data.head()"
   ]
  },
  {
   "cell_type": "code",
   "execution_count": 194,
   "id": "c3c34a37",
   "metadata": {},
   "outputs": [
    {
     "data": {
      "text/plain": [
       "(10000, 9)"
      ]
     },
     "execution_count": 194,
     "metadata": {},
     "output_type": "execute_result"
    }
   ],
   "source": [
    "data = data.drop(['PhysicalHealth', 'MentalHealth', 'SkinCancer', 'KidneyDisease', 'Asthma', 'Stroke', 'Race', 'DiffWalking', 'GenHealth'], axis=1)\n",
    "\n",
    "data.shape"
   ]
  },
  {
   "cell_type": "code",
   "execution_count": 195,
   "id": "d1b1337b",
   "metadata": {},
   "outputs": [],
   "source": [
    "data['AgeCategory'] = data['AgeCategory'].astype('category').cat.codes"
   ]
  },
  {
   "cell_type": "code",
   "execution_count": 196,
   "id": "96ac0154",
   "metadata": {},
   "outputs": [],
   "source": [
    "cleanup_nums = {'HeartDisease': {'No': 0, 'Yes': 1}, \n",
    "                'Smoking': {'Yes': 1, 'No': 0},\n",
    "               'AlcoholDrinking': {'Yes': 1, 'No': 0},\n",
    "               'PhysicalActivity': {'Yes': 1, 'No': 0},\n",
    "               'Sex': {'Female': 1, 'Male': 0}}\n",
    "\n",
    "data = data.replace(cleanup_nums)"
   ]
  },
  {
   "cell_type": "code",
   "execution_count": 197,
   "id": "d1bc2af1",
   "metadata": {},
   "outputs": [],
   "source": [
    "data['Diabetic'] = data['Diabetic'].astype('category').cat.codes"
   ]
  },
  {
   "cell_type": "code",
   "execution_count": 198,
   "id": "ddcb70d6",
   "metadata": {},
   "outputs": [
    {
     "name": "stderr",
     "output_type": "stream",
     "text": [
      "<ipython-input-198-d9565333ed82>:8: SettingWithCopyWarning: \n",
      "A value is trying to be set on a copy of a slice from a DataFrame\n",
      "\n",
      "See the caveats in the documentation: https://pandas.pydata.org/pandas-docs/stable/user_guide/indexing.html#returning-a-view-versus-a-copy\n",
      "  X[i] = (X[i] - Min) / (Max - Min)\n"
     ]
    }
   ],
   "source": [
    "# Normalization\n",
    "\n",
    "N = len(data)\n",
    "def normalize(X):\n",
    "    Max = max(X)\n",
    "    Min = min(X)\n",
    "    for i in range(0, N):\n",
    "        X[i] = (X[i] - Min) / (Max - Min)\n",
    "        \n",
    "B = normalize(data['BMI'])"
   ]
  },
  {
   "cell_type": "code",
   "execution_count": 199,
   "id": "8d8386fe",
   "metadata": {},
   "outputs": [
    {
     "data": {
      "text/html": [
       "<div>\n",
       "<style scoped>\n",
       "    .dataframe tbody tr th:only-of-type {\n",
       "        vertical-align: middle;\n",
       "    }\n",
       "\n",
       "    .dataframe tbody tr th {\n",
       "        vertical-align: top;\n",
       "    }\n",
       "\n",
       "    .dataframe thead th {\n",
       "        text-align: right;\n",
       "    }\n",
       "</style>\n",
       "<table border=\"1\" class=\"dataframe\">\n",
       "  <thead>\n",
       "    <tr style=\"text-align: right;\">\n",
       "      <th></th>\n",
       "      <th>HeartDisease</th>\n",
       "      <th>BMI</th>\n",
       "      <th>Smoking</th>\n",
       "      <th>AlcoholDrinking</th>\n",
       "      <th>Sex</th>\n",
       "      <th>AgeCategory</th>\n",
       "      <th>Diabetic</th>\n",
       "      <th>PhysicalActivity</th>\n",
       "      <th>SleepTime</th>\n",
       "    </tr>\n",
       "  </thead>\n",
       "  <tbody>\n",
       "    <tr>\n",
       "      <th>0</th>\n",
       "      <td>0</td>\n",
       "      <td>0.058423</td>\n",
       "      <td>1</td>\n",
       "      <td>0</td>\n",
       "      <td>1</td>\n",
       "      <td>7</td>\n",
       "      <td>2</td>\n",
       "      <td>1</td>\n",
       "      <td>5</td>\n",
       "    </tr>\n",
       "    <tr>\n",
       "      <th>1</th>\n",
       "      <td>0</td>\n",
       "      <td>0.111458</td>\n",
       "      <td>0</td>\n",
       "      <td>0</td>\n",
       "      <td>1</td>\n",
       "      <td>12</td>\n",
       "      <td>0</td>\n",
       "      <td>1</td>\n",
       "      <td>7</td>\n",
       "    </tr>\n",
       "    <tr>\n",
       "      <th>2</th>\n",
       "      <td>0</td>\n",
       "      <td>0.199943</td>\n",
       "      <td>1</td>\n",
       "      <td>0</td>\n",
       "      <td>0</td>\n",
       "      <td>9</td>\n",
       "      <td>2</td>\n",
       "      <td>1</td>\n",
       "      <td>8</td>\n",
       "    </tr>\n",
       "    <tr>\n",
       "      <th>3</th>\n",
       "      <td>0</td>\n",
       "      <td>0.166336</td>\n",
       "      <td>0</td>\n",
       "      <td>0</td>\n",
       "      <td>1</td>\n",
       "      <td>11</td>\n",
       "      <td>0</td>\n",
       "      <td>0</td>\n",
       "      <td>6</td>\n",
       "    </tr>\n",
       "    <tr>\n",
       "      <th>4</th>\n",
       "      <td>0</td>\n",
       "      <td>0.159246</td>\n",
       "      <td>0</td>\n",
       "      <td>0</td>\n",
       "      <td>1</td>\n",
       "      <td>4</td>\n",
       "      <td>0</td>\n",
       "      <td>1</td>\n",
       "      <td>8</td>\n",
       "    </tr>\n",
       "  </tbody>\n",
       "</table>\n",
       "</div>"
      ],
      "text/plain": [
       "   HeartDisease       BMI  Smoking  AlcoholDrinking  Sex  AgeCategory  \\\n",
       "0             0  0.058423        1                0    1            7   \n",
       "1             0  0.111458        0                0    1           12   \n",
       "2             0  0.199943        1                0    0            9   \n",
       "3             0  0.166336        0                0    1           11   \n",
       "4             0  0.159246        0                0    1            4   \n",
       "\n",
       "   Diabetic  PhysicalActivity  SleepTime  \n",
       "0         2                 1          5  \n",
       "1         0                 1          7  \n",
       "2         2                 1          8  \n",
       "3         0                 0          6  \n",
       "4         0                 1          8  "
      ]
     },
     "execution_count": 199,
     "metadata": {},
     "output_type": "execute_result"
    }
   ],
   "source": [
    "data.head()"
   ]
  },
  {
   "cell_type": "code",
   "execution_count": 200,
   "id": "7a2e018d",
   "metadata": {},
   "outputs": [],
   "source": [
    "X = data.drop('HeartDisease', axis=1)\n",
    "Y = data['HeartDisease'] #Target\n",
    "\n",
    "# First Try\n",
    "num_of_rows = int(len(data) * 0.8)\n",
    "\n",
    "X_train = X[:num_of_rows]\n",
    "X_test = X[num_of_rows:]\n",
    "\n",
    "Y_train = Y[:num_of_rows]\n",
    "Y_test = Y[num_of_rows:]\n",
    "x = Y[num_of_rows:]"
   ]
  },
  {
   "cell_type": "markdown",
   "id": "f1bf1fa0",
   "metadata": {},
   "source": [
    "## Decision Tree"
   ]
  },
  {
   "cell_type": "code",
   "execution_count": 201,
   "id": "ace8a904",
   "metadata": {},
   "outputs": [],
   "source": [
    "from sklearn.tree import DecisionTreeClassifier\n",
    "\n",
    "clf = DecisionTreeClassifier()\n",
    "clf = clf.fit(X_train, Y_train)"
   ]
  },
  {
   "cell_type": "code",
   "execution_count": 202,
   "id": "e85d4bc4",
   "metadata": {},
   "outputs": [
    {
     "data": {
      "text/plain": [
       "{'ccp_alpha': 0.0,\n",
       " 'class_weight': None,\n",
       " 'criterion': 'gini',\n",
       " 'max_depth': None,\n",
       " 'max_features': None,\n",
       " 'max_leaf_nodes': None,\n",
       " 'min_impurity_decrease': 0.0,\n",
       " 'min_samples_leaf': 1,\n",
       " 'min_samples_split': 2,\n",
       " 'min_weight_fraction_leaf': 0.0,\n",
       " 'random_state': None,\n",
       " 'splitter': 'best'}"
      ]
     },
     "execution_count": 202,
     "metadata": {},
     "output_type": "execute_result"
    }
   ],
   "source": [
    "clf.get_params()"
   ]
  },
  {
   "cell_type": "code",
   "execution_count": 203,
   "id": "da249015",
   "metadata": {},
   "outputs": [
    {
     "data": {
      "text/plain": [
       "array([0, 0, 0, ..., 1, 0, 0])"
      ]
     },
     "execution_count": 203,
     "metadata": {},
     "output_type": "execute_result"
    }
   ],
   "source": [
    "pred = clf.predict(X_test)\n",
    "pred"
   ]
  },
  {
   "cell_type": "code",
   "execution_count": 228,
   "id": "74963f61",
   "metadata": {},
   "outputs": [
    {
     "data": {
      "text/plain": [
       "0.8095"
      ]
     },
     "execution_count": 228,
     "metadata": {},
     "output_type": "execute_result"
    }
   ],
   "source": [
    "acc = accuracy_score(pred , Y_test)\n",
    "acc"
   ]
  },
  {
   "cell_type": "code",
   "execution_count": 205,
   "id": "709aab12",
   "metadata": {},
   "outputs": [
    {
     "data": {
      "image/png": "[encoded data removed]",
      "text/plain": [
       "<Figure size 1800x1440 with 1 Axes>"
      ]
     },
     "metadata": {
      "needs_background": "light"
     },
     "output_type": "display_data"
    }
   ],
   "source": [
    "from sklearn import tree\n",
    "from matplotlib import pyplot as plt\n",
    "fig = plt.figure(figsize=(25,20))\n",
    "_ = tree.plot_tree(clf)"
   ]
  },
  {
   "cell_type": "code",
   "execution_count": 207,
   "id": "a0dc665d",
   "metadata": {},
   "outputs": [
    {
     "name": "stdout",
     "output_type": "stream",
     "text": [
      "accuracy of each fold - [0.804, 0.8585, 0.855, 0.8705, 0.8115]\n",
      "Avg accuracy : 0.8398999999999999\n"
     ]
    }
   ],
   "source": [
    "# k-fold validation\n",
    "\n",
    "kf = KFold(n_splits=5, random_state=None)\n",
    "model = DecisionTreeClassifier()\n",
    "\n",
    "acc_score = []\n",
    " \n",
    "for train_index , test_index in kf.split(X):\n",
    "    X_train , X_test = X.iloc[train_index,:],X.iloc[test_index,:]\n",
    "    Y_train , Y_test = Y[train_index] , Y[test_index]\n",
    "     \n",
    "    model.fit(X_train,Y_train)\n",
    "    pred_values = model.predict(X_test)\n",
    "     \n",
    "    acc = accuracy_score(pred_values , Y_test)\n",
    "    acc_score.append(acc)\n",
    "     \n",
    "avg_acc_score = sum(acc_score)/5\n",
    " \n",
    "print('accuracy of each fold - {}'.format(acc_score))\n",
    "print('Avg accuracy : {}'.format(avg_acc_score))"
   ]
  },
  {
   "cell_type": "code",
   "execution_count": 208,
   "id": "8d007346",
   "metadata": {},
   "outputs": [],
   "source": [
    "clf2 = DecisionTreeClassifier(max_depth = 5)\n",
    "clf2 = clf2.fit(X_train, Y_train)"
   ]
  },
  {
   "cell_type": "code",
   "execution_count": 209,
   "id": "c7788197",
   "metadata": {},
   "outputs": [
    {
     "data": {
      "text/plain": [
       "array([0, 0, 0, ..., 0, 0, 0])"
      ]
     },
     "execution_count": 209,
     "metadata": {},
     "output_type": "execute_result"
    }
   ],
   "source": [
    "pred2 = clf2.predict(X_test)\n",
    "pred2"
   ]
  },
  {
   "cell_type": "code",
   "execution_count": 210,
   "id": "32e0cc97",
   "metadata": {},
   "outputs": [
    {
     "data": {
      "text/plain": [
       "0.888"
      ]
     },
     "execution_count": 210,
     "metadata": {},
     "output_type": "execute_result"
    }
   ],
   "source": [
    "acc2 = accuracy_score(pred2 , Y_test)\n",
    "acc2"
   ]
  },
  {
   "cell_type": "code",
   "execution_count": 211,
   "id": "ed1469c4",
   "metadata": {},
   "outputs": [],
   "source": [
    "clf3 = DecisionTreeClassifier(max_depth = 10)\n",
    "clf3 = clf3.fit(X_train, Y_train)"
   ]
  },
  {
   "cell_type": "code",
   "execution_count": 212,
   "id": "4a1a90b3",
   "metadata": {},
   "outputs": [
    {
     "data": {
      "text/plain": [
       "array([0, 0, 0, ..., 1, 0, 0])"
      ]
     },
     "execution_count": 212,
     "metadata": {},
     "output_type": "execute_result"
    }
   ],
   "source": [
    "pred3 = clf3.predict(X_test)\n",
    "pred3"
   ]
  },
  {
   "cell_type": "code",
   "execution_count": 213,
   "id": "9cdeee60",
   "metadata": {},
   "outputs": [
    {
     "data": {
      "text/plain": [
       "0.867"
      ]
     },
     "execution_count": 213,
     "metadata": {},
     "output_type": "execute_result"
    }
   ],
   "source": [
    "acc3 = accuracy_score(pred3 , Y_test)\n",
    "acc3"
   ]
  },
  {
   "cell_type": "code",
   "execution_count": 214,
   "id": "3eb32bbf",
   "metadata": {},
   "outputs": [],
   "source": [
    "clf4 = DecisionTreeClassifier(max_depth = 15)\n",
    "clf4 = clf4.fit(X_train, Y_train)"
   ]
  },
  {
   "cell_type": "code",
   "execution_count": 215,
   "id": "81514d2c",
   "metadata": {},
   "outputs": [
    {
     "data": {
      "text/plain": [
       "array([0, 0, 0, ..., 1, 0, 0])"
      ]
     },
     "execution_count": 215,
     "metadata": {},
     "output_type": "execute_result"
    }
   ],
   "source": [
    "pred4 = clf4.predict(X_test)\n",
    "pred4"
   ]
  },
  {
   "cell_type": "code",
   "execution_count": 216,
   "id": "2e7d5c00",
   "metadata": {},
   "outputs": [
    {
     "data": {
      "text/plain": [
       "0.8365"
      ]
     },
     "execution_count": 216,
     "metadata": {},
     "output_type": "execute_result"
    }
   ],
   "source": [
    "acc4 = accuracy_score(pred4 , Y_test)\n",
    "acc4"
   ]
  },
  {
   "cell_type": "code",
   "execution_count": 217,
   "id": "73c2e4db",
   "metadata": {},
   "outputs": [],
   "source": [
    "clf5 = DecisionTreeClassifier(min_samples_leaf = 5)\n",
    "clf5 = clf5.fit(X_train, Y_train)"
   ]
  },
  {
   "cell_type": "code",
   "execution_count": 218,
   "id": "73b13ea3",
   "metadata": {},
   "outputs": [
    {
     "data": {
      "text/plain": [
       "array([0, 0, 0, ..., 0, 0, 0])"
      ]
     },
     "execution_count": 218,
     "metadata": {},
     "output_type": "execute_result"
    }
   ],
   "source": [
    "pred5 = clf5.predict(X_test)\n",
    "pred5"
   ]
  },
  {
   "cell_type": "code",
   "execution_count": 219,
   "id": "8750dff9",
   "metadata": {},
   "outputs": [
    {
     "data": {
      "text/plain": [
       "0.8365"
      ]
     },
     "execution_count": 219,
     "metadata": {},
     "output_type": "execute_result"
    }
   ],
   "source": [
    "acc5 = accuracy_score(pred4 , Y_test)\n",
    "acc5"
   ]
  },
  {
   "cell_type": "code",
   "execution_count": 220,
   "id": "1395f9a2",
   "metadata": {},
   "outputs": [],
   "source": [
    "clf6 = DecisionTreeClassifier(min_samples_leaf = 10)\n",
    "clf6 = clf6.fit(X_train, Y_train)"
   ]
  },
  {
   "cell_type": "code",
   "execution_count": 221,
   "id": "a499cd06",
   "metadata": {},
   "outputs": [
    {
     "data": {
      "text/plain": [
       "array([0, 0, 0, ..., 0, 0, 0])"
      ]
     },
     "execution_count": 221,
     "metadata": {},
     "output_type": "execute_result"
    }
   ],
   "source": [
    "pred6 = clf6.predict(X_test)\n",
    "pred6"
   ]
  },
  {
   "cell_type": "code",
   "execution_count": 222,
   "id": "21fe1565",
   "metadata": {},
   "outputs": [
    {
     "data": {
      "text/plain": [
       "0.871"
      ]
     },
     "execution_count": 222,
     "metadata": {},
     "output_type": "execute_result"
    }
   ],
   "source": [
    "acc6 = accuracy_score(pred6 , Y_test)\n",
    "acc6"
   ]
  },
  {
   "cell_type": "code",
   "execution_count": 223,
   "id": "5181b0ba",
   "metadata": {},
   "outputs": [],
   "source": [
    "clf7 = DecisionTreeClassifier(min_samples_leaf = 15)\n",
    "clf7 = clf7.fit(X_train, Y_train)"
   ]
  },
  {
   "cell_type": "code",
   "execution_count": 224,
   "id": "68a54715",
   "metadata": {},
   "outputs": [
    {
     "data": {
      "text/plain": [
       "array([0, 0, 0, ..., 0, 0, 0])"
      ]
     },
     "execution_count": 224,
     "metadata": {},
     "output_type": "execute_result"
    }
   ],
   "source": [
    "pred7 = clf7.predict(X_test)\n",
    "pred7"
   ]
  },
  {
   "cell_type": "code",
   "execution_count": 225,
   "id": "80c225c6",
   "metadata": {},
   "outputs": [
    {
     "data": {
      "text/plain": [
       "0.885"
      ]
     },
     "execution_count": 225,
     "metadata": {},
     "output_type": "execute_result"
    }
   ],
   "source": [
    "acc7 = accuracy_score(pred7 , Y_test)\n",
    "acc7"
   ]
  },
  {
   "cell_type": "code",
   "execution_count": 226,
   "id": "a581e7fd",
   "metadata": {},
   "outputs": [
    {
     "data": {
      "text/plain": [
       "Text(0, 0.5, 'Accuracy')"
      ]
     },
     "execution_count": 226,
     "metadata": {},
     "output_type": "execute_result"
    },
    {
     "data": {
      "image/png": "[encoded data removed]",
      "text/plain": [
       "<Figure size 432x288 with 1 Axes>"
      ]
     },
     "metadata": {
      "needs_background": "light"
     },
     "output_type": "display_data"
    }
   ],
   "source": [
    "maxd = [1, 5, 10, 15]\n",
    "accuracy = [acc1,acc2, acc3, acc4]\n",
    "plt.plot(maxd, accuracy, color = 'blue', linestyle = 'solid', marker = 'o')\n",
    "plt.title('Accuracy vs. Max_Depth')\n",
    "plt.xlabel('Max_Depth')\n",
    "plt.ylabel('Accuracy')"
   ]
  },
  {
   "cell_type": "code",
   "execution_count": 227,
   "id": "ea522a18",
   "metadata": {},
   "outputs": [
    {
     "data": {
      "text/plain": [
       "Text(0, 0.5, 'Accuracy')"
      ]
     },
     "execution_count": 227,
     "metadata": {},
     "output_type": "execute_result"
    },
    {
     "data": {
      "image/png": "[encoded data removed]",
      "text/plain": [
       "<Figure size 432x288 with 1 Axes>"
      ]
     },
     "metadata": {
      "needs_background": "light"
     },
     "output_type": "display_data"
    }
   ],
   "source": [
    "mins = [0, 5, 10, 15]\n",
    "accuracy = [acc1, acc5,acc6, acc7]\n",
    "plt.plot(mins, accuracy, color = 'red', linestyle = 'solid', marker = 'o')\n",
    "plt.title('Accuracy vs. Min_Samples_Leaf')\n",
    "plt.xlabel('Min_Samples_Leaf')\n",
    "plt.ylabel('Accuracy')"
   ]
  },
  {
   "cell_type": "code",
   "execution_count": 229,
   "id": "8039f6f7",
   "metadata": {},
   "outputs": [
    {
     "data": {
      "text/plain": [
       "Text(0, 0.5, 'Accuracy')"
      ]
     },
     "execution_count": 229,
     "metadata": {},
     "output_type": "execute_result"
    },
    {
     "data": {
      "image/png": "[encoded data removed]",
      "text/plain": [
       "<Figure size 432x288 with 1 Axes>"
      ]
     },
     "metadata": {
      "needs_background": "light"
     },
     "output_type": "display_data"
    }
   ],
   "source": [
    "accuracy = [acc, avg_acc_score]\n",
    "k = ['Train_Test', 'Kfold']\n",
    "plt.plot(k, accuracy, color = 'orange', linestyle = 'solid', marker = 'o')\n",
    "plt.title('Accuracy vs. Validation')\n",
    "plt.xlabel('Validation')\n",
    "plt.ylabel('Accuracy')"
   ]
  },
  {
   "cell_type": "markdown",
   "id": "805b9f95",
   "metadata": {},
   "source": [
    "## Logistic Regrassion"
   ]
  },
  {
   "cell_type": "code",
   "execution_count": 230,
   "id": "6556dd72",
   "metadata": {},
   "outputs": [
    {
     "name": "stderr",
     "output_type": "stream",
     "text": [
      "/Users/yasamin/opt/anaconda3/lib/python3.8/site-packages/sklearn/linear_model/_logistic.py:444: ConvergenceWarning: lbfgs failed to converge (status=1):\n",
      "STOP: TOTAL NO. of ITERATIONS REACHED LIMIT.\n",
      "\n",
      "Increase the number of iterations (max_iter) or scale the data as shown in:\n",
      "    https://scikit-learn.org/stable/modules/preprocessing.html\n",
      "Please also refer to the documentation for alternative solver options:\n",
      "    https://scikit-learn.org/stable/modules/linear_model.html#logistic-regression\n",
      "  n_iter_i = _check_optimize_result(\n"
     ]
    },
    {
     "data": {
      "text/plain": [
       "array([0, 0, 0, ..., 0, 0, 0])"
      ]
     },
     "execution_count": 230,
     "metadata": {},
     "output_type": "execute_result"
    }
   ],
   "source": [
    "from sklearn.linear_model import LogisticRegression\n",
    "clf = LogisticRegression(random_state=0).fit(X_train, Y_train)\n",
    "lib_pred = clf.predict(X_test)\n",
    "lib_pred"
   ]
  },
  {
   "cell_type": "code",
   "execution_count": 231,
   "id": "24e8920d",
   "metadata": {},
   "outputs": [
    {
     "data": {
      "text/plain": [
       "array([0, 0, 0, ..., 0, 0, 0])"
      ]
     },
     "execution_count": 231,
     "metadata": {},
     "output_type": "execute_result"
    }
   ],
   "source": [
    "from sklearn.linear_model import SGDClassifier\n",
    "clf = SGDClassifier(loss = 'hinge',learning_rate='optimal', max_iter=1000).fit(X_train, Y_train)\n",
    "pred1 = clf.predict(X_test)\n",
    "pred1"
   ]
  },
  {
   "cell_type": "code",
   "execution_count": 246,
   "id": "0e1cd42e",
   "metadata": {},
   "outputs": [
    {
     "data": {
      "text/plain": [
       "0.10899999999999999"
      ]
     },
     "execution_count": 246,
     "metadata": {},
     "output_type": "execute_result"
    }
   ],
   "source": [
    "acc1 = accuracy_score(pred1 , Y_test)\n",
    "loss1 = 1-acc1\n",
    "loss1"
   ]
  },
  {
   "cell_type": "code",
   "execution_count": 233,
   "id": "6d5dc891",
   "metadata": {},
   "outputs": [
    {
     "name": "stderr",
     "output_type": "stream",
     "text": [
      "/Users/yasamin/opt/anaconda3/lib/python3.8/site-packages/sklearn/linear_model/_stochastic_gradient.py:705: ConvergenceWarning: Maximum number of iteration reached before convergence. Consider increasing max_iter to improve the fit.\n",
      "  warnings.warn(\n"
     ]
    },
    {
     "data": {
      "text/plain": [
       "array([0, 0, 0, ..., 0, 0, 0])"
      ]
     },
     "execution_count": 233,
     "metadata": {},
     "output_type": "execute_result"
    }
   ],
   "source": [
    "clf = SGDClassifier(loss = 'hinge',learning_rate='optimal', max_iter=10).fit(X_train, Y_train)\n",
    "pred2 = clf.predict(X_test)\n",
    "pred2"
   ]
  },
  {
   "cell_type": "code",
   "execution_count": 247,
   "id": "86194fd0",
   "metadata": {},
   "outputs": [
    {
     "data": {
      "text/plain": [
       "0.11150000000000004"
      ]
     },
     "execution_count": 247,
     "metadata": {},
     "output_type": "execute_result"
    }
   ],
   "source": [
    "acc2 = accuracy_score(pred2 , Y_test)\n",
    "loss2 = 1-acc2\n",
    "loss2"
   ]
  },
  {
   "cell_type": "code",
   "execution_count": 239,
   "id": "c3dd957d",
   "metadata": {},
   "outputs": [
    {
     "name": "stderr",
     "output_type": "stream",
     "text": [
      "/Users/yasamin/opt/anaconda3/lib/python3.8/site-packages/sklearn/linear_model/_stochastic_gradient.py:705: ConvergenceWarning: Maximum number of iteration reached before convergence. Consider increasing max_iter to improve the fit.\n",
      "  warnings.warn(\n"
     ]
    },
    {
     "data": {
      "text/plain": [
       "array([0, 0, 0, ..., 0, 0, 0])"
      ]
     },
     "execution_count": 239,
     "metadata": {},
     "output_type": "execute_result"
    }
   ],
   "source": [
    "clf = SGDClassifier(loss = 'hinge',learning_rate='optimal', max_iter=50).fit(X_train, Y_train)\n",
    "pred3 = clf.predict(X_test)\n",
    "pred3"
   ]
  },
  {
   "cell_type": "code",
   "execution_count": 249,
   "id": "91b39860",
   "metadata": {},
   "outputs": [
    {
     "data": {
      "text/plain": [
       "0.11150000000000004"
      ]
     },
     "execution_count": 249,
     "metadata": {},
     "output_type": "execute_result"
    }
   ],
   "source": [
    "acc3 = accuracy_score(pred3 , Y_test)\n",
    "loss3 = 1-acc3\n",
    "loss3"
   ]
  },
  {
   "cell_type": "code",
   "execution_count": 333,
   "id": "3a835561",
   "metadata": {},
   "outputs": [
    {
     "data": {
      "text/plain": [
       "array([0, 0, 0, ..., 0, 0, 0])"
      ]
     },
     "execution_count": 333,
     "metadata": {},
     "output_type": "execute_result"
    }
   ],
   "source": [
    "clf = SGDClassifier(loss = 'hinge',learning_rate='optimal', max_iter=1050).fit(X_train, Y_train)\n",
    "pred4 = clf.predict(X_test)\n",
    "pred4"
   ]
  },
  {
   "cell_type": "code",
   "execution_count": 334,
   "id": "9329cfd8",
   "metadata": {},
   "outputs": [
    {
     "data": {
      "text/plain": [
       "0.11150000000000004"
      ]
     },
     "execution_count": 334,
     "metadata": {},
     "output_type": "execute_result"
    }
   ],
   "source": [
    "acc4 = accuracy_score(pred4 , Y_test)\n",
    "loss4 = 1-acc4\n",
    "loss4"
   ]
  },
  {
   "cell_type": "code",
   "execution_count": 348,
   "id": "8533547f",
   "metadata": {},
   "outputs": [
    {
     "data": {
      "text/plain": [
       "Text(0, 0.5, 'Loss')"
      ]
     },
     "execution_count": 348,
     "metadata": {},
     "output_type": "execute_result"
    },
    {
     "data": {
      "image/png": "[encoded data removed]",
      "text/plain": [
       "<Figure size 432x288 with 1 Axes>"
      ]
     },
     "metadata": {
      "needs_background": "light"
     },
     "output_type": "display_data"
    }
   ],
   "source": [
    "maxs = [10, 50, 1000, 1050]\n",
    "accuracy = [loss2, loss3,loss1,loss4]\n",
    "plt.plot(maxs, accuracy, color = 'red', linestyle = 'solid', marker = 'o')\n",
    "plt.title('Loss vs. Max_Iteration')\n",
    "plt.xlabel('Max_Iteration')\n",
    "plt.ylabel('Loss')"
   ]
  },
  {
   "cell_type": "code",
   "execution_count": 349,
   "id": "1df77d55",
   "metadata": {},
   "outputs": [
    {
     "data": {
      "text/plain": [
       "array([0, 0, 0, ..., 0, 0, 0])"
      ]
     },
     "execution_count": 349,
     "metadata": {},
     "output_type": "execute_result"
    }
   ],
   "source": [
    "clf = SGDClassifier(loss = 'hinge',eta0= 10,learning_rate='adaptive', max_iter=1000).fit(X_train, Y_train)\n",
    "pred5 = clf.predict(X_test)\n",
    "pred5"
   ]
  },
  {
   "cell_type": "code",
   "execution_count": 350,
   "id": "05c8b2f6",
   "metadata": {},
   "outputs": [
    {
     "data": {
      "text/plain": [
       "0.11150000000000004"
      ]
     },
     "execution_count": 350,
     "metadata": {},
     "output_type": "execute_result"
    }
   ],
   "source": [
    "acc5 = accuracy_score(pred5 , Y_test)\n",
    "loss5 = 1-acc5\n",
    "loss5"
   ]
  },
  {
   "cell_type": "code",
   "execution_count": 351,
   "id": "1afab315",
   "metadata": {},
   "outputs": [
    {
     "data": {
      "text/plain": [
       "array([0, 0, 0, ..., 0, 0, 0])"
      ]
     },
     "execution_count": 351,
     "metadata": {},
     "output_type": "execute_result"
    }
   ],
   "source": [
    "clf = SGDClassifier(loss = 'hinge',eta0= 10,learning_rate='invscaling', max_iter=1000).fit(X_train, Y_train)\n",
    "pred6 = clf.predict(X_test)\n",
    "pred6"
   ]
  },
  {
   "cell_type": "code",
   "execution_count": 352,
   "id": "4d61bb5f",
   "metadata": {},
   "outputs": [
    {
     "data": {
      "text/plain": [
       "0.11099999999999999"
      ]
     },
     "execution_count": 352,
     "metadata": {},
     "output_type": "execute_result"
    }
   ],
   "source": [
    "acc6 = accuracy_score(pred6 , Y_test)\n",
    "loss6 = 1-acc6\n",
    "loss6"
   ]
  },
  {
   "cell_type": "code",
   "execution_count": 353,
   "id": "a52ee0f3",
   "metadata": {},
   "outputs": [
    {
     "data": {
      "text/plain": [
       "array([0, 0, 0, ..., 0, 0, 0])"
      ]
     },
     "execution_count": 353,
     "metadata": {},
     "output_type": "execute_result"
    }
   ],
   "source": [
    "clf = SGDClassifier(loss = 'hinge',eta0= 10,learning_rate='constant', max_iter=1000).fit(X_train, Y_train)\n",
    "pred7 = clf.predict(X_test)\n",
    "pred7"
   ]
  },
  {
   "cell_type": "code",
   "execution_count": 354,
   "id": "b64b8ed4",
   "metadata": {},
   "outputs": [
    {
     "data": {
      "text/plain": [
       "0.11150000000000004"
      ]
     },
     "execution_count": 354,
     "metadata": {},
     "output_type": "execute_result"
    }
   ],
   "source": [
    "acc7 = accuracy_score(pred7 , Y_test)\n",
    "loss7 = 1-acc7\n",
    "loss7"
   ]
  },
  {
   "cell_type": "code",
   "execution_count": 356,
   "id": "a164c08b",
   "metadata": {},
   "outputs": [
    {
     "data": {
      "text/plain": [
       "Text(0, 0.5, 'Loss')"
      ]
     },
     "execution_count": 356,
     "metadata": {},
     "output_type": "execute_result"
    },
    {
     "data": {
      "image/png": "[encoded data removed]",
      "text/plain": [
       "<Figure size 432x288 with 1 Axes>"
      ]
     },
     "metadata": {
      "needs_background": "light"
     },
     "output_type": "display_data"
    }
   ],
   "source": [
    "alpha = ['optimal', 'adaptive', 'invscaling', 'constant']\n",
    "accuracy = [loss1, loss5, loss6, loss7]\n",
    "plt.plot(alpha, accuracy, color = 'red', linestyle = 'solid', marker = 'o')\n",
    "plt.title('Loss vs. Learning_Rate')\n",
    "plt.xlabel('Learning_Rate')\n",
    "plt.ylabel('Loss')"
   ]
  },
  {
   "cell_type": "code",
   "execution_count": 357,
   "id": "fdfb638b",
   "metadata": {},
   "outputs": [
    {
     "name": "stdout",
     "output_type": "stream",
     "text": [
      "accuracy of each fold - [0.902, 0.9, 0.903, 0.862, 0.901, 0.901, 0.9, 0.901, 0.86, 0.901]\n",
      "Avg accuracy : 0.8930999999999999\n"
     ]
    }
   ],
   "source": [
    "skf = StratifiedKFold(n_splits=10, shuffle=True, random_state=1) \n",
    "model = SGDClassifier(loss = 'hinge',alpha=0.0001, max_iter=1000)\n",
    "acc_stratified = []\n",
    "for train_index, test_index in skf.split(X, Y): \n",
    "    X_train , X_test = X.iloc[train_index,:],X.iloc[test_index,:]\n",
    "    Y_train , Y_test = Y[train_index] , Y[test_index] \n",
    "    \n",
    "    model.fit(X_train, Y_train) \n",
    "    acc_stratified.append(model.score(X_test, Y_test))\n",
    "    \n",
    "avg_acc_score = sum(acc_stratified)/10\n",
    "print('accuracy of each fold - {}'.format(acc_stratified))\n",
    "print('Avg accuracy : {}'.format(avg_acc_score))"
   ]
  },
  {
   "cell_type": "code",
   "execution_count": 358,
   "id": "58081e16",
   "metadata": {},
   "outputs": [
    {
     "data": {
      "text/plain": [
       "Text(0, 0.5, 'Accuracy')"
      ]
     },
     "execution_count": 358,
     "metadata": {},
     "output_type": "execute_result"
    },
    {
     "data": {
      "image/png": "[encoded data removed]",
      "text/plain": [
       "<Figure size 432x288 with 1 Axes>"
      ]
     },
     "metadata": {
      "needs_background": "light"
     },
     "output_type": "display_data"
    }
   ],
   "source": [
    "accuracy = [acc, avg_acc_score]\n",
    "k = ['Train_Test', 'SKfold']\n",
    "plt.plot(k, accuracy, color = 'orange', linestyle = 'solid', marker = 'o')\n",
    "plt.title('Accuracy vs. Validation')\n",
    "plt.xlabel('Validation')\n",
    "plt.ylabel('Accuracy')"
   ]
  },
  {
   "cell_type": "markdown",
   "id": "41ae3feb",
   "metadata": {},
   "source": [
    "## K-Means"
   ]
  },
  {
   "cell_type": "code",
   "execution_count": 359,
   "id": "f133275e",
   "metadata": {},
   "outputs": [],
   "source": [
    "from sklearn.cluster import KMeans\n",
    "kmeans = KMeans(n_clusters=2, random_state=0).fit(X_train)"
   ]
  },
  {
   "cell_type": "code",
   "execution_count": 360,
   "id": "d9431d49",
   "metadata": {},
   "outputs": [
    {
     "data": {
      "text/plain": [
       "array([1, 1, 1, 1, 1, 1, 0, 1, 1, 1, 1, 1, 0, 1, 1, 1, 1, 1, 1, 1, 1, 0,\n",
       "       1, 1, 1, 1, 1, 1, 1, 1, 1, 1, 1, 1, 0, 0, 1, 1, 1, 1, 1, 1, 0, 1,\n",
       "       1, 1, 1, 1, 1, 1, 1, 1, 1, 1, 1, 1, 1, 0, 1, 1, 1, 1, 1, 0, 1, 1,\n",
       "       1, 1, 1, 1, 1, 1, 1, 1, 1, 1, 0, 0, 0, 1, 1, 1, 0, 0, 1, 1, 1, 0,\n",
       "       1, 1, 1, 1, 1, 0, 1, 1, 1, 1, 1, 1, 1, 1, 1, 1, 0, 1, 1, 1, 1, 1,\n",
       "       0, 1, 1, 1, 1, 1, 1, 1, 1, 1, 1, 0, 1, 0, 0, 0, 1, 1, 1, 1, 1, 0,\n",
       "       0, 0, 0, 1, 0, 0, 0, 1, 0, 1, 1, 1, 1, 1, 0, 1, 1, 1, 0, 0, 1, 1,\n",
       "       1, 0, 0, 0, 1, 0, 0, 0, 0, 1, 1, 0, 1, 1, 1, 0, 0, 1, 0, 0, 0, 0,\n",
       "       1, 0, 0, 1, 1, 0, 1, 1, 0, 0, 0, 0, 1, 0, 0, 0, 0, 1, 0, 1, 1, 1,\n",
       "       0, 0, 1, 0, 1, 1, 1, 1, 0, 1, 1, 0, 0, 0, 0, 0, 1, 0, 1, 1, 1, 1,\n",
       "       1, 0, 1, 1, 0, 1, 1, 0, 1, 0, 0, 0, 0, 0, 0, 0, 0, 1, 1, 1, 0, 0,\n",
       "       0, 1, 0, 1, 1, 1, 0, 1, 0, 1, 0, 0, 1, 0, 0, 1, 0, 0, 0, 1, 0, 1,\n",
       "       0, 1, 0, 1, 1, 1, 1, 1, 0, 0, 1, 0, 0, 0, 0, 0, 0, 0, 1, 1, 1, 1,\n",
       "       0, 1, 1, 1, 0, 1, 1, 0, 1, 0, 0, 1, 1, 0, 1, 0, 0, 0, 1, 0, 1, 1,\n",
       "       1, 0, 0, 1, 1, 1, 0, 1, 1, 0, 0, 0, 0, 1, 1, 1, 1, 0, 0, 1, 0, 1,\n",
       "       1, 0, 1, 1, 0, 1, 1, 0, 1, 0, 0, 0, 0, 1, 0, 1, 1, 1, 1, 1, 1, 0,\n",
       "       0, 1, 1, 1, 0, 1, 1, 1, 0, 0, 1, 0, 1, 0, 1, 1, 0, 1, 0, 1, 0, 0,\n",
       "       1, 0, 1, 0, 1, 1, 1, 1, 0, 0, 1, 0, 1, 0, 0, 0, 0, 0, 0, 0, 0, 0,\n",
       "       0, 0, 0, 1, 0, 0, 1, 1, 0, 1, 1, 0, 0, 0, 0, 1, 0, 1, 1, 1, 1, 1,\n",
       "       1, 1, 1, 0, 1, 0, 0, 0, 0, 1, 0, 1, 0, 0, 0, 1, 0, 1, 0, 0, 1, 0,\n",
       "       0, 0, 0, 0, 1, 0, 1, 1, 0, 1, 1, 1, 0, 0, 0, 0, 1, 1, 1, 0, 1, 0,\n",
       "       1, 1, 1, 0, 1, 1, 1, 1, 1, 0, 1, 1, 1, 1, 1, 1, 1, 0, 1, 1, 1, 1,\n",
       "       1, 0, 0, 1, 1, 1, 0, 0, 1, 0, 1, 1, 0, 0, 1, 1, 1, 0, 1, 1, 1, 0,\n",
       "       1, 0, 0, 1, 1, 1, 1, 1, 0, 1, 1, 1, 1, 0, 1, 0, 0, 1, 0, 1, 1, 0,\n",
       "       0, 1, 1, 1, 0, 1, 1, 1, 1, 1, 1, 1, 0, 0, 1, 1, 1, 1, 0, 1, 1, 0,\n",
       "       1, 1, 1, 1, 0, 1, 1, 0, 1, 1, 1, 1, 1, 1, 1, 1, 1, 1, 1, 1, 1, 1,\n",
       "       1, 1, 0, 1, 1, 0, 1, 0, 0, 1, 1, 1, 0, 0, 0, 0, 1, 0, 1, 0, 1, 0,\n",
       "       0, 1, 0, 1, 1, 0, 0, 1, 0, 0, 1, 0, 0, 0, 0, 1, 1, 1, 0, 1, 0, 0,\n",
       "       1, 0, 0, 0, 1, 1, 1, 0, 0, 1, 1, 1, 1, 0, 0, 0, 0, 0, 0, 0, 1, 1,\n",
       "       1, 0, 1, 1, 1, 0, 0, 0, 1, 1, 0, 0, 0, 0, 0, 0, 1, 1, 0, 0, 0, 1,\n",
       "       1, 1, 0, 1, 0, 0, 0, 0, 0, 0, 0, 0, 0, 0, 0, 0, 0, 0, 0, 1, 0, 0,\n",
       "       0, 1, 0, 0, 0, 0, 0, 1, 0, 0, 1, 0, 0, 1, 1, 1, 0, 0, 0, 0, 0, 0,\n",
       "       1, 0, 1, 0, 1, 1, 0, 0, 0, 1, 0, 1, 0, 1, 0, 1, 0, 1, 1, 0, 0, 0,\n",
       "       0, 0, 1, 0, 0, 0, 0, 1, 1, 1, 0, 0, 0, 0, 1, 1, 1, 1, 1, 1, 1, 1,\n",
       "       1, 1, 1, 1, 1, 1, 1, 1, 1, 0, 1, 1, 1, 1, 1, 0, 0, 1, 1, 1, 1, 1,\n",
       "       1, 1, 1, 1, 0, 1, 1, 1, 1, 1, 1, 1, 1, 1, 1, 0, 1, 1, 1, 1, 1, 0,\n",
       "       1, 1, 1, 1, 1, 1, 1, 1, 0, 1, 1, 1, 1, 1, 1, 1, 1, 0, 1, 1, 0, 1,\n",
       "       1, 0, 1, 0, 0, 1, 1, 1, 1, 1, 1, 1, 1, 1, 0, 0, 1, 1, 1, 1, 0, 1,\n",
       "       1, 1, 1, 1, 1, 1, 1, 1, 1, 1, 1, 1, 1, 1, 1, 1, 1, 1, 1, 1, 1, 1,\n",
       "       1, 1, 1, 1, 1, 1, 1, 1, 1, 1, 1, 1, 1, 1, 1, 0, 0, 0, 1, 0, 1, 0,\n",
       "       1, 1, 1, 1, 1, 1, 1, 0, 1, 1, 1, 0, 1, 1, 1, 1, 1, 0, 1, 1, 1, 1,\n",
       "       1, 1, 1, 1, 1, 0, 1, 1, 1, 0, 0, 0, 1, 0, 1, 0, 1, 1, 1, 0, 0, 0,\n",
       "       1, 1, 0, 0, 0, 1, 0, 1, 0, 1, 1, 0, 1, 1, 1, 0, 0, 1, 1, 1, 1, 1,\n",
       "       1, 1, 1, 0, 0, 1, 0, 0, 0, 0, 0, 1, 1, 1, 0, 0, 1, 1, 1, 0, 0, 0,\n",
       "       0, 1, 0, 0, 1, 0, 0, 1, 0, 1, 1, 1, 0, 1, 1, 0, 1, 1, 1, 1, 0, 0,\n",
       "       0, 1, 1, 0, 0, 0, 0, 1, 0, 1], dtype=int32)"
      ]
     },
     "execution_count": 360,
     "metadata": {},
     "output_type": "execute_result"
    }
   ],
   "source": [
    "kmeans.predict(X_test)"
   ]
  },
  {
   "cell_type": "code",
   "execution_count": 361,
   "id": "79385fe9",
   "metadata": {},
   "outputs": [
    {
     "data": {
      "text/plain": [
       "array([1, 1, 1, ..., 0, 1, 1], dtype=int32)"
      ]
     },
     "execution_count": 361,
     "metadata": {},
     "output_type": "execute_result"
    }
   ],
   "source": [
    "labels = kmeans.labels_\n",
    "labels"
   ]
  },
  {
   "cell_type": "code",
   "execution_count": 362,
   "id": "0d39ceb5",
   "metadata": {
    "scrolled": true
   },
   "outputs": [
    {
     "data": {
      "text/plain": [
       "array([[2.37282184e-01, 3.31145717e+00, 6.91907675e+00, 5.95383760e-01,\n",
       "        4.04616240e-01, 9.21023359e-01, 7.89766407e-02, 5.07230256e-01,\n",
       "        4.92769744e-01, 9.07119021e-01, 1.64071190e-02, 6.53503893e-02,\n",
       "        1.11234705e-02, 2.02447164e-01, 7.97552836e-01],\n",
       "       [2.23448246e-01, 9.43097705e+00, 7.25111029e+00, 5.21650629e-01,\n",
       "        4.78349371e-01, 9.47631384e-01, 5.23686158e-02, 5.71613620e-01,\n",
       "        4.28386380e-01, 7.74426351e-01, 3.03478905e-02, 1.90784604e-01,\n",
       "        4.44115470e-03, 2.85714286e-01, 7.14285714e-01]])"
      ]
     },
     "execution_count": 362,
     "metadata": {},
     "output_type": "execute_result"
    }
   ],
   "source": [
    "kmeans.cluster_centers_"
   ]
  },
  {
   "cell_type": "code",
   "execution_count": 363,
   "id": "7827d56a",
   "metadata": {},
   "outputs": [
    {
     "name": "stderr",
     "output_type": "stream",
     "text": [
      "<ipython-input-363-c962752fda91>:1: SettingWithCopyWarning: \n",
      "A value is trying to be set on a copy of a slice from a DataFrame.\n",
      "Try using .loc[row_indexer,col_indexer] = value instead\n",
      "\n",
      "See the caveats in the documentation: https://pandas.pydata.org/pandas-docs/stable/user_guide/indexing.html#returning-a-view-versus-a-copy\n",
      "  X_train['kmean'] = kmeans.labels_\n"
     ]
    }
   ],
   "source": [
    "X_train['kmean'] = kmeans.labels_"
   ]
  },
  {
   "cell_type": "code",
   "execution_count": 364,
   "id": "607a55ac",
   "metadata": {},
   "outputs": [
    {
     "data": {
      "text/plain": [
       "1    5404\n",
       "0    3596\n",
       "Name: kmean, dtype: int64"
      ]
     },
     "execution_count": 364,
     "metadata": {},
     "output_type": "execute_result"
    }
   ],
   "source": [
    "X_train['kmean'].value_counts()"
   ]
  },
  {
   "cell_type": "markdown",
   "id": "65f32225",
   "metadata": {},
   "source": [
    "## One-R"
   ]
  },
  {
   "cell_type": "code",
   "execution_count": 378,
   "id": "f1fb524a",
   "metadata": {},
   "outputs": [
    {
     "data": {
      "text/html": [
       "<div>\n",
       "<style scoped>\n",
       "    .dataframe tbody tr th:only-of-type {\n",
       "        vertical-align: middle;\n",
       "    }\n",
       "\n",
       "    .dataframe tbody tr th {\n",
       "        vertical-align: top;\n",
       "    }\n",
       "\n",
       "    .dataframe thead th {\n",
       "        text-align: right;\n",
       "    }\n",
       "</style>\n",
       "<table border=\"1\" class=\"dataframe\">\n",
       "  <thead>\n",
       "    <tr style=\"text-align: right;\">\n",
       "      <th></th>\n",
       "      <th>HeartDisease</th>\n",
       "      <th>BMI</th>\n",
       "      <th>AgeCategory</th>\n",
       "      <th>SleepTime</th>\n",
       "      <th>Smoking_No</th>\n",
       "      <th>Smoking_Yes</th>\n",
       "      <th>AlcoholDrinking_No</th>\n",
       "      <th>AlcoholDrinking_Yes</th>\n",
       "      <th>Sex_Female</th>\n",
       "      <th>Sex_Male</th>\n",
       "      <th>Diabetic_No</th>\n",
       "      <th>Diabetic_No, borderline diabetes</th>\n",
       "      <th>Diabetic_Yes</th>\n",
       "      <th>Diabetic_Yes (during pregnancy)</th>\n",
       "      <th>PhysicalActivity_No</th>\n",
       "      <th>PhysicalActivity_Yes</th>\n",
       "    </tr>\n",
       "  </thead>\n",
       "  <tbody>\n",
       "    <tr>\n",
       "      <th>1688</th>\n",
       "      <td>1</td>\n",
       "      <td>0.000000</td>\n",
       "      <td>6</td>\n",
       "      <td>12</td>\n",
       "      <td>0</td>\n",
       "      <td>1</td>\n",
       "      <td>1</td>\n",
       "      <td>0</td>\n",
       "      <td>0</td>\n",
       "      <td>1</td>\n",
       "      <td>1</td>\n",
       "      <td>0</td>\n",
       "      <td>0</td>\n",
       "      <td>0</td>\n",
       "      <td>1</td>\n",
       "      <td>0</td>\n",
       "    </tr>\n",
       "    <tr>\n",
       "      <th>5037</th>\n",
       "      <td>0</td>\n",
       "      <td>0.003829</td>\n",
       "      <td>0</td>\n",
       "      <td>5</td>\n",
       "      <td>0</td>\n",
       "      <td>1</td>\n",
       "      <td>0</td>\n",
       "      <td>1</td>\n",
       "      <td>0</td>\n",
       "      <td>1</td>\n",
       "      <td>1</td>\n",
       "      <td>0</td>\n",
       "      <td>0</td>\n",
       "      <td>0</td>\n",
       "      <td>0</td>\n",
       "      <td>1</td>\n",
       "    </tr>\n",
       "    <tr>\n",
       "      <th>8471</th>\n",
       "      <td>0</td>\n",
       "      <td>0.017584</td>\n",
       "      <td>11</td>\n",
       "      <td>8</td>\n",
       "      <td>0</td>\n",
       "      <td>1</td>\n",
       "      <td>1</td>\n",
       "      <td>0</td>\n",
       "      <td>1</td>\n",
       "      <td>0</td>\n",
       "      <td>1</td>\n",
       "      <td>0</td>\n",
       "      <td>0</td>\n",
       "      <td>0</td>\n",
       "      <td>1</td>\n",
       "      <td>0</td>\n",
       "    </tr>\n",
       "    <tr>\n",
       "      <th>6247</th>\n",
       "      <td>0</td>\n",
       "      <td>0.019711</td>\n",
       "      <td>10</td>\n",
       "      <td>8</td>\n",
       "      <td>1</td>\n",
       "      <td>0</td>\n",
       "      <td>0</td>\n",
       "      <td>1</td>\n",
       "      <td>0</td>\n",
       "      <td>1</td>\n",
       "      <td>1</td>\n",
       "      <td>0</td>\n",
       "      <td>0</td>\n",
       "      <td>0</td>\n",
       "      <td>1</td>\n",
       "      <td>0</td>\n",
       "    </tr>\n",
       "    <tr>\n",
       "      <th>1844</th>\n",
       "      <td>0</td>\n",
       "      <td>0.026517</td>\n",
       "      <td>4</td>\n",
       "      <td>8</td>\n",
       "      <td>1</td>\n",
       "      <td>0</td>\n",
       "      <td>1</td>\n",
       "      <td>0</td>\n",
       "      <td>1</td>\n",
       "      <td>0</td>\n",
       "      <td>1</td>\n",
       "      <td>0</td>\n",
       "      <td>0</td>\n",
       "      <td>0</td>\n",
       "      <td>1</td>\n",
       "      <td>0</td>\n",
       "    </tr>\n",
       "    <tr>\n",
       "      <th>...</th>\n",
       "      <td>...</td>\n",
       "      <td>...</td>\n",
       "      <td>...</td>\n",
       "      <td>...</td>\n",
       "      <td>...</td>\n",
       "      <td>...</td>\n",
       "      <td>...</td>\n",
       "      <td>...</td>\n",
       "      <td>...</td>\n",
       "      <td>...</td>\n",
       "      <td>...</td>\n",
       "      <td>...</td>\n",
       "      <td>...</td>\n",
       "      <td>...</td>\n",
       "      <td>...</td>\n",
       "      <td>...</td>\n",
       "    </tr>\n",
       "    <tr>\n",
       "      <th>2359</th>\n",
       "      <td>0</td>\n",
       "      <td>0.766875</td>\n",
       "      <td>10</td>\n",
       "      <td>9</td>\n",
       "      <td>0</td>\n",
       "      <td>1</td>\n",
       "      <td>1</td>\n",
       "      <td>0</td>\n",
       "      <td>1</td>\n",
       "      <td>0</td>\n",
       "      <td>1</td>\n",
       "      <td>0</td>\n",
       "      <td>0</td>\n",
       "      <td>0</td>\n",
       "      <td>1</td>\n",
       "      <td>0</td>\n",
       "    </tr>\n",
       "    <tr>\n",
       "      <th>9358</th>\n",
       "      <td>1</td>\n",
       "      <td>0.897476</td>\n",
       "      <td>2</td>\n",
       "      <td>15</td>\n",
       "      <td>0</td>\n",
       "      <td>1</td>\n",
       "      <td>0</td>\n",
       "      <td>1</td>\n",
       "      <td>0</td>\n",
       "      <td>1</td>\n",
       "      <td>0</td>\n",
       "      <td>0</td>\n",
       "      <td>1</td>\n",
       "      <td>0</td>\n",
       "      <td>1</td>\n",
       "      <td>0</td>\n",
       "    </tr>\n",
       "    <tr>\n",
       "      <th>561</th>\n",
       "      <td>0</td>\n",
       "      <td>0.898185</td>\n",
       "      <td>6</td>\n",
       "      <td>8</td>\n",
       "      <td>1</td>\n",
       "      <td>0</td>\n",
       "      <td>1</td>\n",
       "      <td>0</td>\n",
       "      <td>1</td>\n",
       "      <td>0</td>\n",
       "      <td>1</td>\n",
       "      <td>0</td>\n",
       "      <td>0</td>\n",
       "      <td>0</td>\n",
       "      <td>0</td>\n",
       "      <td>1</td>\n",
       "    </tr>\n",
       "    <tr>\n",
       "      <th>9088</th>\n",
       "      <td>0</td>\n",
       "      <td>0.996597</td>\n",
       "      <td>6</td>\n",
       "      <td>10</td>\n",
       "      <td>1</td>\n",
       "      <td>0</td>\n",
       "      <td>1</td>\n",
       "      <td>0</td>\n",
       "      <td>1</td>\n",
       "      <td>0</td>\n",
       "      <td>0</td>\n",
       "      <td>0</td>\n",
       "      <td>1</td>\n",
       "      <td>0</td>\n",
       "      <td>0</td>\n",
       "      <td>1</td>\n",
       "    </tr>\n",
       "    <tr>\n",
       "      <th>9499</th>\n",
       "      <td>1</td>\n",
       "      <td>1.000000</td>\n",
       "      <td>6</td>\n",
       "      <td>18</td>\n",
       "      <td>0</td>\n",
       "      <td>1</td>\n",
       "      <td>0</td>\n",
       "      <td>1</td>\n",
       "      <td>0</td>\n",
       "      <td>1</td>\n",
       "      <td>1</td>\n",
       "      <td>0</td>\n",
       "      <td>0</td>\n",
       "      <td>0</td>\n",
       "      <td>1</td>\n",
       "      <td>0</td>\n",
       "    </tr>\n",
       "  </tbody>\n",
       "</table>\n",
       "<p>10000 rows × 16 columns</p>\n",
       "</div>"
      ],
      "text/plain": [
       "      HeartDisease       BMI  AgeCategory  SleepTime  Smoking_No  Smoking_Yes  \\\n",
       "1688             1  0.000000            6         12           0            1   \n",
       "5037             0  0.003829            0          5           0            1   \n",
       "8471             0  0.017584           11          8           0            1   \n",
       "6247             0  0.019711           10          8           1            0   \n",
       "1844             0  0.026517            4          8           1            0   \n",
       "...            ...       ...          ...        ...         ...          ...   \n",
       "2359             0  0.766875           10          9           0            1   \n",
       "9358             1  0.897476            2         15           0            1   \n",
       "561              0  0.898185            6          8           1            0   \n",
       "9088             0  0.996597            6         10           1            0   \n",
       "9499             1  1.000000            6         18           0            1   \n",
       "\n",
       "      AlcoholDrinking_No  AlcoholDrinking_Yes  Sex_Female  Sex_Male  \\\n",
       "1688                   1                    0           0         1   \n",
       "5037                   0                    1           0         1   \n",
       "8471                   1                    0           1         0   \n",
       "6247                   0                    1           0         1   \n",
       "1844                   1                    0           1         0   \n",
       "...                  ...                  ...         ...       ...   \n",
       "2359                   1                    0           1         0   \n",
       "9358                   0                    1           0         1   \n",
       "561                    1                    0           1         0   \n",
       "9088                   1                    0           1         0   \n",
       "9499                   0                    1           0         1   \n",
       "\n",
       "      Diabetic_No  Diabetic_No, borderline diabetes  Diabetic_Yes  \\\n",
       "1688            1                                 0             0   \n",
       "5037            1                                 0             0   \n",
       "8471            1                                 0             0   \n",
       "6247            1                                 0             0   \n",
       "1844            1                                 0             0   \n",
       "...           ...                               ...           ...   \n",
       "2359            1                                 0             0   \n",
       "9358            0                                 0             1   \n",
       "561             1                                 0             0   \n",
       "9088            0                                 0             1   \n",
       "9499            1                                 0             0   \n",
       "\n",
       "      Diabetic_Yes (during pregnancy)  PhysicalActivity_No  \\\n",
       "1688                                0                    1   \n",
       "5037                                0                    0   \n",
       "8471                                0                    1   \n",
       "6247                                0                    1   \n",
       "1844                                0                    1   \n",
       "...                               ...                  ...   \n",
       "2359                                0                    1   \n",
       "9358                                0                    1   \n",
       "561                                 0                    0   \n",
       "9088                                0                    0   \n",
       "9499                                0                    1   \n",
       "\n",
       "      PhysicalActivity_Yes  \n",
       "1688                     0  \n",
       "5037                     1  \n",
       "8471                     0  \n",
       "6247                     0  \n",
       "1844                     0  \n",
       "...                    ...  \n",
       "2359                     0  \n",
       "9358                     0  \n",
       "561                      1  \n",
       "9088                     1  \n",
       "9499                     0  \n",
       "\n",
       "[10000 rows x 16 columns]"
      ]
     },
     "execution_count": 378,
     "metadata": {},
     "output_type": "execute_result"
    }
   ],
   "source": [
    "data = data.sort_values('BMI')\n",
    "data"
   ]
  },
  {
   "cell_type": "code",
   "execution_count": 386,
   "id": "5159f919",
   "metadata": {},
   "outputs": [
    {
     "data": {
      "text/plain": [
       "[0,\n",
       " 0,\n",
       " 0,\n",
       " 0,\n",
       " 'flag',\n",
       " 'flag',\n",
       " 0,\n",
       " 0,\n",
       " 0,\n",
       " 'flag',\n",
       " 'flag',\n",
       " 0,\n",
       " 0,\n",
       " 0,\n",
       " 0,\n",
       " 0,\n",
       " 0,\n",
       " 0,\n",
       " 0,\n",
       " 0,\n",
       " 0,\n",
       " 0,\n",
       " 0,\n",
       " 0,\n",
       " 0,\n",
       " 0,\n",
       " 0,\n",
       " 0,\n",
       " 0,\n",
       " 0,\n",
       " 0,\n",
       " 0,\n",
       " 0,\n",
       " 0,\n",
       " 'flag',\n",
       " 'flag',\n",
       " 0,\n",
       " 0,\n",
       " 0,\n",
       " 0,\n",
       " 0,\n",
       " 'flag',\n",
       " 1,\n",
       " 'flag',\n",
       " 'flag',\n",
       " 'flag',\n",
       " 0,\n",
       " 0,\n",
       " 0,\n",
       " 0,\n",
       " 0,\n",
       " 0,\n",
       " 0,\n",
       " 0,\n",
       " 0,\n",
       " 0,\n",
       " 0,\n",
       " 0,\n",
       " 0,\n",
       " 0,\n",
       " 0,\n",
       " 0,\n",
       " 0,\n",
       " 0,\n",
       " 0,\n",
       " 0,\n",
       " 0,\n",
       " 0,\n",
       " 0,\n",
       " 0,\n",
       " 0,\n",
       " 0,\n",
       " 0,\n",
       " 0,\n",
       " 0,\n",
       " 0,\n",
       " 'flag',\n",
       " 1,\n",
       " 'flag',\n",
       " 0,\n",
       " 0,\n",
       " 0,\n",
       " 0,\n",
       " 0,\n",
       " 0,\n",
       " 0,\n",
       " 0,\n",
       " 0,\n",
       " 0,\n",
       " 0,\n",
       " 0,\n",
       " 0,\n",
       " 0,\n",
       " 0,\n",
       " 0,\n",
       " 0,\n",
       " 0,\n",
       " 0,\n",
       " 0,\n",
       " 0,\n",
       " 'flag',\n",
       " 'flag',\n",
       " 0,\n",
       " 0,\n",
       " 0,\n",
       " 0,\n",
       " 0,\n",
       " 0,\n",
       " 0,\n",
       " 0,\n",
       " 0,\n",
       " 0,\n",
       " 0,\n",
       " 0,\n",
       " 0,\n",
       " 0,\n",
       " 0,\n",
       " 0,\n",
       " 0,\n",
       " 0,\n",
       " 0,\n",
       " 0,\n",
       " 0,\n",
       " 0,\n",
       " 0,\n",
       " 0,\n",
       " 'flag',\n",
       " 'flag',\n",
       " 'flag',\n",
       " 'flag',\n",
       " 'flag',\n",
       " 'flag',\n",
       " 0,\n",
       " 0,\n",
       " 0,\n",
       " 0,\n",
       " 0,\n",
       " 0,\n",
       " 0,\n",
       " 'flag',\n",
       " 1,\n",
       " 1,\n",
       " 'flag',\n",
       " 0,\n",
       " 0,\n",
       " 0,\n",
       " 0,\n",
       " 'flag',\n",
       " 1,\n",
       " 'flag',\n",
       " 0,\n",
       " 0,\n",
       " 0,\n",
       " 0,\n",
       " 0,\n",
       " 0,\n",
       " 0,\n",
       " 0,\n",
       " 0,\n",
       " 0,\n",
       " 0,\n",
       " 'flag',\n",
       " 'flag',\n",
       " 0,\n",
       " 'flag',\n",
       " 'flag',\n",
       " 0,\n",
       " 0,\n",
       " 0,\n",
       " 0,\n",
       " 0,\n",
       " 0,\n",
       " 0,\n",
       " 0,\n",
       " 0,\n",
       " 0,\n",
       " 0,\n",
       " 0,\n",
       " 0,\n",
       " 0,\n",
       " 'flag',\n",
       " 'flag',\n",
       " 'flag',\n",
       " 1,\n",
       " 'flag',\n",
       " 0,\n",
       " 0,\n",
       " 0,\n",
       " 0,\n",
       " 0,\n",
       " 0,\n",
       " 0,\n",
       " 0,\n",
       " 0,\n",
       " 0,\n",
       " 0,\n",
       " 0,\n",
       " 0,\n",
       " 0,\n",
       " 0,\n",
       " 0,\n",
       " 0,\n",
       " 0,\n",
       " 'flag',\n",
       " 'flag',\n",
       " 0,\n",
       " 0,\n",
       " 0,\n",
       " 0,\n",
       " 0,\n",
       " 0,\n",
       " 0,\n",
       " 0,\n",
       " 0,\n",
       " 'flag',\n",
       " 'flag',\n",
       " 'flag',\n",
       " 'flag',\n",
       " 0,\n",
       " 0,\n",
       " 'flag',\n",
       " 'flag',\n",
       " 0,\n",
       " 0,\n",
       " 0,\n",
       " 0,\n",
       " 0,\n",
       " 0,\n",
       " 0,\n",
       " 0,\n",
       " 0,\n",
       " 0,\n",
       " 0,\n",
       " 'flag',\n",
       " 'flag',\n",
       " 0,\n",
       " 0,\n",
       " 0,\n",
       " 0,\n",
       " 0,\n",
       " 0,\n",
       " 0,\n",
       " 'flag',\n",
       " 'flag',\n",
       " 'flag',\n",
       " 1,\n",
       " 1,\n",
       " 'flag',\n",
       " 0,\n",
       " 0,\n",
       " 0,\n",
       " 0,\n",
       " 0,\n",
       " 0,\n",
       " 0,\n",
       " 0,\n",
       " 0,\n",
       " 'flag',\n",
       " 'flag',\n",
       " 0,\n",
       " 0,\n",
       " 0,\n",
       " 0,\n",
       " 0,\n",
       " 0,\n",
       " 0,\n",
       " 0,\n",
       " 0,\n",
       " 0,\n",
       " 'flag',\n",
       " 'flag',\n",
       " 'flag',\n",
       " 'flag',\n",
       " 0,\n",
       " 0,\n",
       " 0,\n",
       " 0,\n",
       " 0,\n",
       " 'flag',\n",
       " 'flag',\n",
       " 'flag',\n",
       " 'flag',\n",
       " 0,\n",
       " 0,\n",
       " 0,\n",
       " 'flag',\n",
       " 'flag',\n",
       " 0,\n",
       " 0,\n",
       " 0,\n",
       " 'flag',\n",
       " 'flag',\n",
       " 'flag',\n",
       " 'flag',\n",
       " 0,\n",
       " 0,\n",
       " 'flag',\n",
       " 'flag',\n",
       " 0,\n",
       " 0,\n",
       " 'flag',\n",
       " 'flag',\n",
       " 0,\n",
       " 0,\n",
       " 0,\n",
       " 'flag',\n",
       " 'flag',\n",
       " 0,\n",
       " 0,\n",
       " 0,\n",
       " 'flag',\n",
       " 'flag',\n",
       " 0,\n",
       " 0,\n",
       " 0,\n",
       " 0,\n",
       " 0,\n",
       " 0,\n",
       " 0,\n",
       " 0,\n",
       " 0,\n",
       " 0,\n",
       " 0,\n",
       " 0,\n",
       " 0,\n",
       " 0,\n",
       " 0,\n",
       " 0,\n",
       " 'flag',\n",
       " 'flag',\n",
       " 0,\n",
       " 0,\n",
       " 0,\n",
       " 'flag',\n",
       " 'flag',\n",
       " 0,\n",
       " 0,\n",
       " 0,\n",
       " 0,\n",
       " 0,\n",
       " 0,\n",
       " 0,\n",
       " 0,\n",
       " 0,\n",
       " 0,\n",
       " 'flag',\n",
       " 'flag',\n",
       " 'flag',\n",
       " 1,\n",
       " 'flag',\n",
       " 0,\n",
       " 0,\n",
       " 0,\n",
       " 0,\n",
       " 0,\n",
       " 0,\n",
       " 0,\n",
       " 'flag',\n",
       " 1,\n",
       " 'flag',\n",
       " 0,\n",
       " 0,\n",
       " 'flag',\n",
       " 'flag',\n",
       " 0,\n",
       " 0,\n",
       " 0,\n",
       " 0,\n",
       " 0,\n",
       " 'flag',\n",
       " 'flag',\n",
       " 0,\n",
       " 0,\n",
       " 0,\n",
       " 0,\n",
       " 'flag',\n",
       " 1,\n",
       " 1,\n",
       " 'flag',\n",
       " 0,\n",
       " 'flag',\n",
       " 'flag',\n",
       " 0,\n",
       " 0,\n",
       " 0,\n",
       " 0,\n",
       " 0,\n",
       " 0,\n",
       " 0,\n",
       " 0,\n",
       " 'flag',\n",
       " 'flag',\n",
       " 0,\n",
       " 0,\n",
       " 0,\n",
       " 'flag',\n",
       " 'flag',\n",
       " 0,\n",
       " 0,\n",
       " 0,\n",
       " 0,\n",
       " 0,\n",
       " 'flag',\n",
       " 1,\n",
       " 'flag',\n",
       " 0,\n",
       " 'flag',\n",
       " 'flag',\n",
       " 0,\n",
       " 'flag',\n",
       " 'flag',\n",
       " 0,\n",
       " 0,\n",
       " 0,\n",
       " 0,\n",
       " 0,\n",
       " 'flag',\n",
       " 1,\n",
       " 'flag',\n",
       " 0,\n",
       " 0,\n",
       " 0,\n",
       " 0,\n",
       " 0,\n",
       " 0,\n",
       " 'flag',\n",
       " 'flag',\n",
       " 0,\n",
       " 'flag',\n",
       " 'flag',\n",
       " 0,\n",
       " 0,\n",
       " 0,\n",
       " 0,\n",
       " 0,\n",
       " 0,\n",
       " 0,\n",
       " 0,\n",
       " 0,\n",
       " 0,\n",
       " 0,\n",
       " 0,\n",
       " 0,\n",
       " 0,\n",
       " 0,\n",
       " 0,\n",
       " 'flag',\n",
       " 'flag',\n",
       " 0,\n",
       " 'flag',\n",
       " 'flag',\n",
       " 0,\n",
       " 0,\n",
       " 0,\n",
       " 'flag',\n",
       " 'flag',\n",
       " 'flag',\n",
       " 'flag',\n",
       " 0,\n",
       " 0,\n",
       " 0,\n",
       " 0,\n",
       " 0,\n",
       " 0,\n",
       " 0,\n",
       " 0,\n",
       " 0,\n",
       " 0,\n",
       " 'flag',\n",
       " 1,\n",
       " 'flag',\n",
       " 0,\n",
       " 0,\n",
       " 0,\n",
       " 0,\n",
       " 0,\n",
       " 'flag',\n",
       " 'flag',\n",
       " 0,\n",
       " 0,\n",
       " 0,\n",
       " 0,\n",
       " 0,\n",
       " 0,\n",
       " 0,\n",
       " 0,\n",
       " 0,\n",
       " 0,\n",
       " 0,\n",
       " 0,\n",
       " 0,\n",
       " 0,\n",
       " 0,\n",
       " 0,\n",
       " 0,\n",
       " 0,\n",
       " 0,\n",
       " 0,\n",
       " 0,\n",
       " 0,\n",
       " 0,\n",
       " 0,\n",
       " 'flag',\n",
       " 'flag',\n",
       " 0,\n",
       " 0,\n",
       " 0,\n",
       " 0,\n",
       " 0,\n",
       " 0,\n",
       " 0,\n",
       " 0,\n",
       " 'flag',\n",
       " 'flag',\n",
       " 0,\n",
       " 0,\n",
       " 'flag',\n",
       " 'flag',\n",
       " 0,\n",
       " 0,\n",
       " 0,\n",
       " 'flag',\n",
       " 'flag',\n",
       " 0,\n",
       " 0,\n",
       " 0,\n",
       " 0,\n",
       " 0,\n",
       " 0,\n",
       " 'flag',\n",
       " 'flag',\n",
       " 0,\n",
       " 0,\n",
       " 0,\n",
       " 0,\n",
       " 0,\n",
       " 0,\n",
       " 'flag',\n",
       " 'flag',\n",
       " 0,\n",
       " 0,\n",
       " 'flag',\n",
       " 'flag',\n",
       " 0,\n",
       " 0,\n",
       " 0,\n",
       " 0,\n",
       " 0,\n",
       " 0,\n",
       " 'flag',\n",
       " 'flag',\n",
       " 0,\n",
       " 'flag',\n",
       " 'flag',\n",
       " 'flag',\n",
       " 1,\n",
       " 'flag',\n",
       " 0,\n",
       " 'flag',\n",
       " 'flag',\n",
       " 0,\n",
       " 0,\n",
       " 0,\n",
       " 0,\n",
       " 0,\n",
       " 0,\n",
       " 0,\n",
       " 0,\n",
       " 0,\n",
       " 0,\n",
       " 0,\n",
       " 0,\n",
       " 0,\n",
       " 0,\n",
       " 0,\n",
       " 0,\n",
       " 0,\n",
       " 0,\n",
       " 0,\n",
       " 0,\n",
       " 0,\n",
       " 0,\n",
       " 0,\n",
       " 0,\n",
       " 0,\n",
       " 0,\n",
       " 0,\n",
       " 0,\n",
       " 0,\n",
       " 0,\n",
       " 'flag',\n",
       " 'flag',\n",
       " 0,\n",
       " 0,\n",
       " 'flag',\n",
       " 'flag',\n",
       " 0,\n",
       " 0,\n",
       " 0,\n",
       " 0,\n",
       " 0,\n",
       " 0,\n",
       " 0,\n",
       " 0,\n",
       " 0,\n",
       " 0,\n",
       " 0,\n",
       " 0,\n",
       " 'flag',\n",
       " 1,\n",
       " 'flag',\n",
       " 'flag',\n",
       " 'flag',\n",
       " 'flag',\n",
       " 'flag',\n",
       " 0,\n",
       " 0,\n",
       " 0,\n",
       " 0,\n",
       " 0,\n",
       " 0,\n",
       " 'flag',\n",
       " 'flag',\n",
       " 0,\n",
       " 0,\n",
       " 0,\n",
       " 0,\n",
       " 0,\n",
       " 0,\n",
       " 0,\n",
       " 0,\n",
       " 0,\n",
       " 0,\n",
       " 0,\n",
       " 0,\n",
       " 'flag',\n",
       " 'flag',\n",
       " 0,\n",
       " 0,\n",
       " 0,\n",
       " 0,\n",
       " 0,\n",
       " 0,\n",
       " 0,\n",
       " 0,\n",
       " 0,\n",
       " 0,\n",
       " 0,\n",
       " 0,\n",
       " 0,\n",
       " 0,\n",
       " 0,\n",
       " 'flag',\n",
       " 'flag',\n",
       " 'flag',\n",
       " 1,\n",
       " 'flag',\n",
       " 0,\n",
       " 'flag',\n",
       " 'flag',\n",
       " 0,\n",
       " 0,\n",
       " 0,\n",
       " 0,\n",
       " 0,\n",
       " 0,\n",
       " 'flag',\n",
       " 'flag',\n",
       " 'flag',\n",
       " 'flag',\n",
       " 0,\n",
       " 0,\n",
       " 0,\n",
       " 0,\n",
       " 0,\n",
       " 0,\n",
       " 0,\n",
       " 0,\n",
       " 0,\n",
       " 0,\n",
       " 0,\n",
       " 0,\n",
       " 0,\n",
       " 'flag',\n",
       " 'flag',\n",
       " 'flag',\n",
       " 'flag',\n",
       " 0,\n",
       " 0,\n",
       " 0,\n",
       " 0,\n",
       " 0,\n",
       " 0,\n",
       " 0,\n",
       " 0,\n",
       " 0,\n",
       " 0,\n",
       " 0,\n",
       " 0,\n",
       " 'flag',\n",
       " 'flag',\n",
       " 0,\n",
       " 0,\n",
       " 0,\n",
       " 0,\n",
       " 0,\n",
       " 'flag',\n",
       " 'flag',\n",
       " 0,\n",
       " 'flag',\n",
       " 'flag',\n",
       " 0,\n",
       " 0,\n",
       " 0,\n",
       " 0,\n",
       " 0,\n",
       " 0,\n",
       " 0,\n",
       " 0,\n",
       " 'flag',\n",
       " 'flag',\n",
       " 0,\n",
       " 0,\n",
       " 0,\n",
       " 0,\n",
       " 0,\n",
       " 0,\n",
       " 0,\n",
       " 0,\n",
       " 0,\n",
       " 'flag',\n",
       " 'flag',\n",
       " 0,\n",
       " 0,\n",
       " 0,\n",
       " 'flag',\n",
       " 1,\n",
       " 'flag',\n",
       " 0,\n",
       " 0,\n",
       " 0,\n",
       " 0,\n",
       " 'flag',\n",
       " 'flag',\n",
       " 0,\n",
       " 0,\n",
       " 0,\n",
       " 0,\n",
       " 0,\n",
       " 0,\n",
       " 0,\n",
       " 0,\n",
       " 0,\n",
       " 0,\n",
       " 'flag',\n",
       " 'flag',\n",
       " 0,\n",
       " 0,\n",
       " 0,\n",
       " 0,\n",
       " 'flag',\n",
       " 'flag',\n",
       " 0,\n",
       " 0,\n",
       " 0,\n",
       " 0,\n",
       " 0,\n",
       " 0,\n",
       " 0,\n",
       " 0,\n",
       " 0,\n",
       " 0,\n",
       " 0,\n",
       " 0,\n",
       " 0,\n",
       " 0,\n",
       " 0,\n",
       " 0,\n",
       " 0,\n",
       " 0,\n",
       " 0,\n",
       " 0,\n",
       " 0,\n",
       " 0,\n",
       " 0,\n",
       " 'flag',\n",
       " 'flag',\n",
       " 0,\n",
       " 0,\n",
       " 0,\n",
       " 0,\n",
       " 'flag',\n",
       " 'flag',\n",
       " 0,\n",
       " 'flag',\n",
       " 'flag',\n",
       " 0,\n",
       " 0,\n",
       " 0,\n",
       " 0,\n",
       " 'flag',\n",
       " 'flag',\n",
       " 0,\n",
       " 'flag',\n",
       " 'flag',\n",
       " 'flag',\n",
       " 1,\n",
       " 'flag',\n",
       " 0,\n",
       " 0,\n",
       " 0,\n",
       " 0,\n",
       " 0,\n",
       " 0,\n",
       " 0,\n",
       " 0,\n",
       " 0,\n",
       " 'flag',\n",
       " 1,\n",
       " 'flag',\n",
       " 0,\n",
       " 0,\n",
       " 'flag',\n",
       " 1,\n",
       " 'flag',\n",
       " 0,\n",
       " 0,\n",
       " 0,\n",
       " 0,\n",
       " 0,\n",
       " 'flag',\n",
       " 'flag',\n",
       " 'flag',\n",
       " 'flag',\n",
       " 0,\n",
       " 0,\n",
       " 0,\n",
       " 0,\n",
       " 0,\n",
       " 0,\n",
       " 0,\n",
       " 0,\n",
       " 0,\n",
       " 0,\n",
       " 0,\n",
       " 0,\n",
       " 0,\n",
       " 0,\n",
       " 0,\n",
       " 0,\n",
       " 0,\n",
       " 0,\n",
       " 'flag',\n",
       " 'flag',\n",
       " 0,\n",
       " 0,\n",
       " 'flag',\n",
       " 'flag',\n",
       " 0,\n",
       " 0,\n",
       " 0,\n",
       " 0,\n",
       " 0,\n",
       " 0,\n",
       " 0,\n",
       " 0,\n",
       " 0,\n",
       " 0,\n",
       " 0,\n",
       " 0,\n",
       " 0,\n",
       " 0,\n",
       " 0,\n",
       " 0,\n",
       " 0,\n",
       " 0,\n",
       " 0,\n",
       " 0,\n",
       " 0,\n",
       " 0,\n",
       " 0,\n",
       " 0,\n",
       " 'flag',\n",
       " 'flag',\n",
       " 0,\n",
       " 'flag',\n",
       " 'flag',\n",
       " 0,\n",
       " 0,\n",
       " 0,\n",
       " 'flag',\n",
       " 'flag',\n",
       " 0,\n",
       " 0,\n",
       " 0,\n",
       " 0,\n",
       " 0,\n",
       " 0,\n",
       " 0,\n",
       " 0,\n",
       " 0,\n",
       " 0,\n",
       " 0,\n",
       " 'flag',\n",
       " 'flag',\n",
       " 'flag',\n",
       " 'flag',\n",
       " 0,\n",
       " 0,\n",
       " 'flag',\n",
       " 'flag',\n",
       " 0,\n",
       " 0,\n",
       " 'flag',\n",
       " 1,\n",
       " 'flag',\n",
       " 0,\n",
       " 0,\n",
       " 0,\n",
       " 0,\n",
       " 0,\n",
       " 'flag',\n",
       " 'flag',\n",
       " 0,\n",
       " 0,\n",
       " 0,\n",
       " 0,\n",
       " 0,\n",
       " 0,\n",
       " 0,\n",
       " 0,\n",
       " 0,\n",
       " 0,\n",
       " 0,\n",
       " 0,\n",
       " 0,\n",
       " 0,\n",
       " 'flag',\n",
       " 'flag',\n",
       " 0,\n",
       " 0,\n",
       " 0,\n",
       " 0,\n",
       " 0,\n",
       " 'flag',\n",
       " 'flag',\n",
       " 0,\n",
       " 'flag',\n",
       " 'flag',\n",
       " 'flag',\n",
       " 'flag',\n",
       " 'flag',\n",
       " 'flag',\n",
       " 0,\n",
       " 0,\n",
       " 0,\n",
       " 0,\n",
       " 0,\n",
       " 0,\n",
       " 0,\n",
       " 0,\n",
       " 0,\n",
       " 0,\n",
       " 0,\n",
       " 'flag',\n",
       " 'flag',\n",
       " 0,\n",
       " 'flag',\n",
       " 1,\n",
       " 'flag',\n",
       " 0,\n",
       " 0,\n",
       " 0,\n",
       " 0,\n",
       " 'flag',\n",
       " 'flag',\n",
       " 'flag',\n",
       " 'flag',\n",
       " 'flag',\n",
       " 'flag',\n",
       " 0,\n",
       " 0,\n",
       " 0,\n",
       " 'flag',\n",
       " 'flag',\n",
       " 0,\n",
       " 0,\n",
       " 'flag',\n",
       " 1,\n",
       " 1,\n",
       " 'flag',\n",
       " 0,\n",
       " 0,\n",
       " 0,\n",
       " 0,\n",
       " 0,\n",
       " 'flag',\n",
       " 'flag',\n",
       " 0,\n",
       " 0,\n",
       " ...]"
      ]
     },
     "execution_count": 386,
     "metadata": {},
     "output_type": "execute_result"
    }
   ],
   "source": [
    "c= []\n",
    "flag = 'flag'\n",
    "for i in range(0, len(data)-1):\n",
    "    if(data['BMI'][i] == data['BMI'][i+1] or data['HeartDisease'][i] == data['HeartDisease'][i+1]):\n",
    "        c.append(data['HeartDisease'][i])\n",
    "    else:\n",
    "        c.append(flag)\n",
    "\n",
    "c"
   ]
  },
  {
   "cell_type": "code",
   "execution_count": 387,
   "id": "444f0b9e",
   "metadata": {},
   "outputs": [],
   "source": [
    "newflag = 'newflag'\n",
    "miin = 500\n",
    "for i in range(0, len(c)):\n",
    "    if(i == flag):\n",
    "        if(c[0:i].count(0) == miin or c[0:i].count(1) == miin):\n",
    "            c.append(newflag)\n",
    "    else:\n",
    "        break"
   ]
  },
  {
   "cell_type": "code",
   "execution_count": null,
   "id": "52dfd7ad",
   "metadata": {},
   "outputs": [],
   "source": [
    "data = data.sort_values('AgeCategory')\n",
    "data"
   ]
  },
  {
   "cell_type": "code",
   "execution_count": null,
   "id": "8e343492",
   "metadata": {},
   "outputs": [],
   "source": [
    "data = data.sort_values('SleepTime')\n",
    "data"
   ]
  }
 ],
 "metadata": {
  "kernelspec": {
   "display_name": "Python 3",
   "language": "python",
   "name": "python3"
  },
  "language_info": {
   "codemirror_mode": {
    "name": "ipython",
    "version": 3
   },
   "file_extension": ".py",
   "mimetype": "text/x-python",
   "name": "python",
   "nbconvert_exporter": "python",
   "pygments_lexer": "ipython3",
   "version": "3.8.8"
  }
 },
 "nbformat": 4,
 "nbformat_minor": 5
}
